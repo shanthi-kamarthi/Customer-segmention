{
 "cells": [
  {
   "cell_type": "markdown",
   "metadata": {},
   "source": [
    "## Metrrics to start with online retail Analysis\n",
    "For an online retail, we can select our Metric as Monthly Sales Revenue\n",
    "\n",
    "\n"
   ]
  },
  {
   "cell_type": "code",
   "execution_count": 4,
   "metadata": {
    "collapsed": false
   },
   "outputs": [],
   "source": [
    "import numpy as np\n",
    "import pandas as pd\n",
    "from datetime import datetime, timedelta\n",
    "%matplotlib inline\n",
    "import matplotlib.pyplot as plt\n",
    "import seaborn as sns\n",
    "import datetime\n"
   ]
  },
  {
   "cell_type": "code",
   "execution_count": 5,
   "metadata": {
    "collapsed": false,
    "scrolled": true
   },
   "outputs": [
    {
     "data": {
      "text/html": [
       "<div>\n",
       "<table border=\"1\" class=\"dataframe\">\n",
       "  <thead>\n",
       "    <tr style=\"text-align: right;\">\n",
       "      <th></th>\n",
       "      <th>date</th>\n",
       "      <th>cust_id</th>\n",
       "      <th>event</th>\n",
       "      <th>price</th>\n",
       "      <th>product_id</th>\n",
       "      <th>category</th>\n",
       "    </tr>\n",
       "  </thead>\n",
       "  <tbody>\n",
       "    <tr>\n",
       "      <th>0</th>\n",
       "      <td>2019-01-14</td>\n",
       "      <td>007e188b-63b2-4c0b-9c74-2eb5a4cb1d9b</td>\n",
       "      <td>addToCart</td>\n",
       "      <td>337</td>\n",
       "      <td>PR923AT55PMADFMX</td>\n",
       "      <td>women&gt;outerwear&gt;vests</td>\n",
       "    </tr>\n",
       "    <tr>\n",
       "      <th>1</th>\n",
       "      <td>2019-01-14</td>\n",
       "      <td>007e188b-63b2-4c0b-9c74-2eb5a4cb1d9b</td>\n",
       "      <td>addToCart</td>\n",
       "      <td>337</td>\n",
       "      <td>PR923AT55PMADFMX</td>\n",
       "      <td>women&gt;outerwear&gt;vests</td>\n",
       "    </tr>\n",
       "    <tr>\n",
       "      <th>2</th>\n",
       "      <td>2019-01-14</td>\n",
       "      <td>007e188b-63b2-4c0b-9c74-2eb5a4cb1d9b</td>\n",
       "      <td>addToCart</td>\n",
       "      <td>337</td>\n",
       "      <td>PR923AT09IUWDFMX</td>\n",
       "      <td>women&gt;outerwear&gt;vests</td>\n",
       "    </tr>\n",
       "    <tr>\n",
       "      <th>3</th>\n",
       "      <td>2019-01-14</td>\n",
       "      <td>007e188b-63b2-4c0b-9c74-2eb5a4cb1d9b</td>\n",
       "      <td>addToCart</td>\n",
       "      <td>117</td>\n",
       "      <td>MA194AT06LOBDFMX</td>\n",
       "      <td>boys&gt;topwear&gt;sweatshirts</td>\n",
       "    </tr>\n",
       "    <tr>\n",
       "      <th>4</th>\n",
       "      <td>2019-01-14</td>\n",
       "      <td>007e188b-63b2-4c0b-9c74-2eb5a4cb1d9b</td>\n",
       "      <td>addToCart</td>\n",
       "      <td>117</td>\n",
       "      <td>MA194AT06LOBDFMX</td>\n",
       "      <td>boys&gt;topwear&gt;sweatshirts</td>\n",
       "    </tr>\n",
       "  </tbody>\n",
       "</table>\n",
       "</div>"
      ],
      "text/plain": [
       "         date                               cust_id      event  price  \\\n",
       "0  2019-01-14  007e188b-63b2-4c0b-9c74-2eb5a4cb1d9b  addToCart    337   \n",
       "1  2019-01-14  007e188b-63b2-4c0b-9c74-2eb5a4cb1d9b  addToCart    337   \n",
       "2  2019-01-14  007e188b-63b2-4c0b-9c74-2eb5a4cb1d9b  addToCart    337   \n",
       "3  2019-01-14  007e188b-63b2-4c0b-9c74-2eb5a4cb1d9b  addToCart    117   \n",
       "4  2019-01-14  007e188b-63b2-4c0b-9c74-2eb5a4cb1d9b  addToCart    117   \n",
       "\n",
       "         product_id                  category  \n",
       "0  PR923AT55PMADFMX     women>outerwear>vests  \n",
       "1  PR923AT55PMADFMX     women>outerwear>vests  \n",
       "2  PR923AT09IUWDFMX     women>outerwear>vests  \n",
       "3  MA194AT06LOBDFMX  boys>topwear>sweatshirts  \n",
       "4  MA194AT06LOBDFMX  boys>topwear>sweatshirts  "
      ]
     },
     "execution_count": 5,
     "metadata": {},
     "output_type": "execute_result"
    }
   ],
   "source": [
    "tx_data = pd.read_table('C:\\\\Users\\\\Raghuram\\\\Desktop\\\\project\\\\000.txt',header=None,sep=\",\")\n",
    "\n",
    "tx_data.columns=[\"date\",\"cust_id\",\"event\",\"price\",\"product_id\",\"category\"]\n",
    "tx_data.head(5)\n"
   ]
  },
  {
   "cell_type": "code",
   "execution_count": 6,
   "metadata": {
    "collapsed": false
   },
   "outputs": [
    {
     "name": "stdout",
     "output_type": "stream",
     "text": [
      "date          object\n",
      "cust_id       object\n",
      "event         object\n",
      "price          int64\n",
      "product_id    object\n",
      "category      object\n",
      "dtype: object\n"
     ]
    },
    {
     "data": {
      "text/plain": [
       "(7349575, 6)"
      ]
     },
     "execution_count": 6,
     "metadata": {},
     "output_type": "execute_result"
    }
   ],
   "source": [
    "print(tx_data.dtypes)\n",
    "tx_data.shape\n"
   ]
  },
  {
   "cell_type": "markdown",
   "metadata": {},
   "source": [
    "\n",
    "# Extracting data related to purchase(event: buy)\n",
    "\n",
    "  Given data is having 73495575 observations.For analysis extracting event 'buy' data having 9000+ observations"
   ]
  },
  {
   "cell_type": "code",
   "execution_count": 7,
   "metadata": {
    "collapsed": false,
    "scrolled": true
   },
   "outputs": [
    {
     "name": "stdout",
     "output_type": "stream",
     "text": [
      "(9464, 6)\n"
     ]
    },
    {
     "data": {
      "text/html": [
       "<div>\n",
       "<table border=\"1\" class=\"dataframe\">\n",
       "  <thead>\n",
       "    <tr style=\"text-align: right;\">\n",
       "      <th></th>\n",
       "      <th>date</th>\n",
       "      <th>cust_id</th>\n",
       "      <th>event</th>\n",
       "      <th>price</th>\n",
       "      <th>product_id</th>\n",
       "      <th>category</th>\n",
       "    </tr>\n",
       "  </thead>\n",
       "  <tbody>\n",
       "    <tr>\n",
       "      <th>16796</th>\n",
       "      <td>2019-01-18</td>\n",
       "      <td>05fa0274-07ed-424f-9930-9e00a181a57b</td>\n",
       "      <td>buy</td>\n",
       "      <td>1999</td>\n",
       "      <td>TI778SH75SKEDFMX</td>\n",
       "      <td>men&gt;shoes&gt;boots</td>\n",
       "    </tr>\n",
       "    <tr>\n",
       "      <th>16797</th>\n",
       "      <td>2019-01-18</td>\n",
       "      <td>05fa0274-07ed-424f-9930-9e00a181a57b</td>\n",
       "      <td>buy</td>\n",
       "      <td>1499</td>\n",
       "      <td>TI778SH87SJSDFMX</td>\n",
       "      <td>men&gt;shoes&gt;boots</td>\n",
       "    </tr>\n",
       "    <tr>\n",
       "      <th>16798</th>\n",
       "      <td>2019-01-11</td>\n",
       "      <td>0cbc10e5-005a-4960-a7fb-28931bd82daf</td>\n",
       "      <td>buy</td>\n",
       "      <td>1199</td>\n",
       "      <td>TH934AT94SAVDFMX</td>\n",
       "      <td>women&gt;outerwear&gt;jackets</td>\n",
       "    </tr>\n",
       "    <tr>\n",
       "      <th>16799</th>\n",
       "      <td>2019-01-18</td>\n",
       "      <td>1256d1c8-feae-4226-871a-b90e7d918ee0</td>\n",
       "      <td>buy</td>\n",
       "      <td>299</td>\n",
       "      <td>SQ017AT94NEVDFMX</td>\n",
       "      <td>men&gt;activewear&gt;tshirts</td>\n",
       "    </tr>\n",
       "    <tr>\n",
       "      <th>16800</th>\n",
       "      <td>2019-01-18</td>\n",
       "      <td>1256d1c8-feae-4226-871a-b90e7d918ee0</td>\n",
       "      <td>buy</td>\n",
       "      <td>299</td>\n",
       "      <td>DO528AB27RRWDFMX</td>\n",
       "      <td>men&gt;bottomwear&gt;shorts</td>\n",
       "    </tr>\n",
       "  </tbody>\n",
       "</table>\n",
       "</div>"
      ],
      "text/plain": [
       "             date                               cust_id event  price  \\\n",
       "16796  2019-01-18  05fa0274-07ed-424f-9930-9e00a181a57b   buy   1999   \n",
       "16797  2019-01-18  05fa0274-07ed-424f-9930-9e00a181a57b   buy   1499   \n",
       "16798  2019-01-11  0cbc10e5-005a-4960-a7fb-28931bd82daf   buy   1199   \n",
       "16799  2019-01-18  1256d1c8-feae-4226-871a-b90e7d918ee0   buy    299   \n",
       "16800  2019-01-18  1256d1c8-feae-4226-871a-b90e7d918ee0   buy    299   \n",
       "\n",
       "             product_id                 category  \n",
       "16796  TI778SH75SKEDFMX          men>shoes>boots  \n",
       "16797  TI778SH87SJSDFMX          men>shoes>boots  \n",
       "16798  TH934AT94SAVDFMX  women>outerwear>jackets  \n",
       "16799  SQ017AT94NEVDFMX   men>activewear>tshirts  \n",
       "16800  DO528AB27RRWDFMX    men>bottomwear>shorts  "
      ]
     },
     "execution_count": 7,
     "metadata": {},
     "output_type": "execute_result"
    }
   ],
   "source": [
    "tx_data=tx_data.loc[tx_data['event'].isin(['buy'])]\n",
    "print(tx_data.shape)\n",
    "tx_data.head()"
   ]
  },
  {
   "cell_type": "markdown",
   "metadata": {},
   "source": [
    "We have no. of customers who puchases products are 2819\n",
    "Total no. of unique products ordered are 3656"
   ]
  },
  {
   "cell_type": "code",
   "execution_count": 8,
   "metadata": {
    "collapsed": false
   },
   "outputs": [],
   "source": [
    "tx_data.to_csv(\"C:\\\\Users\\\\Raghuram\\\\Desktop\\\\Python Project customer analytics\\\\cust_data.csv\")"
   ]
  },
  {
   "cell_type": "code",
   "execution_count": 9,
   "metadata": {
    "collapsed": false
   },
   "outputs": [
    {
     "name": "stdout",
     "output_type": "stream",
     "text": [
      "50bb9727-5420-42a1-8605-73a5042d1c8b    125\n",
      "223c59ce-99fc-4e0d-87a9-4156c87fd5d2    114\n",
      "4d416d08-e2ef-4c1c-af4e-db84d78dc8a9     56\n",
      "e76aff10-b325-46dc-949a-29848e1baef7     40\n",
      "85bb6a6b-ae70-487b-a758-c93a54da0426     38\n",
      "Name: cust_id, dtype: int64\n",
      "TI778SH85SJUDFMX    129\n",
      "TI778SH80SJZDFMX     69\n",
      "TI778SH71SKIDFMX     38\n",
      "ST089SH56SKXDFMX     35\n",
      "LE063AB24EHVDFMX     26\n",
      "Name: product_id, dtype: int64\n",
      "(2819,)\n"
     ]
    },
    {
     "data": {
      "text/plain": [
       "(3656,)"
      ]
     },
     "execution_count": 9,
     "metadata": {},
     "output_type": "execute_result"
    }
   ],
   "source": [
    "data=tx_data\n",
    "cust_count=tx_data['cust_id'].value_counts()\n",
    "prod_count=tx_data['product_id'].value_counts()\n",
    "print(cust_count.head())\n",
    "print(prod_count.head())\n",
    "print(cust_count.shape)\n",
    "prod_count.shape"
   ]
  },
  {
   "cell_type": "code",
   "execution_count": 10,
   "metadata": {
    "collapsed": false
   },
   "outputs": [
    {
     "data": {
      "text/html": [
       "<div>\n",
       "<table border=\"1\" class=\"dataframe\">\n",
       "  <thead>\n",
       "    <tr style=\"text-align: right;\">\n",
       "      <th></th>\n",
       "      <th>date</th>\n",
       "      <th>cust_id</th>\n",
       "      <th>price</th>\n",
       "      <th>product_id</th>\n",
       "    </tr>\n",
       "  </thead>\n",
       "  <tbody>\n",
       "    <tr>\n",
       "      <th>16796</th>\n",
       "      <td>2019-01-18</td>\n",
       "      <td>05fa0274-07ed-424f-9930-9e00a181a57b</td>\n",
       "      <td>1999</td>\n",
       "      <td>TI778SH75SKEDFMX</td>\n",
       "    </tr>\n",
       "    <tr>\n",
       "      <th>16797</th>\n",
       "      <td>2019-01-18</td>\n",
       "      <td>05fa0274-07ed-424f-9930-9e00a181a57b</td>\n",
       "      <td>1499</td>\n",
       "      <td>TI778SH87SJSDFMX</td>\n",
       "    </tr>\n",
       "    <tr>\n",
       "      <th>16798</th>\n",
       "      <td>2019-01-11</td>\n",
       "      <td>0cbc10e5-005a-4960-a7fb-28931bd82daf</td>\n",
       "      <td>1199</td>\n",
       "      <td>TH934AT94SAVDFMX</td>\n",
       "    </tr>\n",
       "    <tr>\n",
       "      <th>16799</th>\n",
       "      <td>2019-01-18</td>\n",
       "      <td>1256d1c8-feae-4226-871a-b90e7d918ee0</td>\n",
       "      <td>299</td>\n",
       "      <td>SQ017AT94NEVDFMX</td>\n",
       "    </tr>\n",
       "    <tr>\n",
       "      <th>16800</th>\n",
       "      <td>2019-01-18</td>\n",
       "      <td>1256d1c8-feae-4226-871a-b90e7d918ee0</td>\n",
       "      <td>299</td>\n",
       "      <td>DO528AB27RRWDFMX</td>\n",
       "    </tr>\n",
       "  </tbody>\n",
       "</table>\n",
       "</div>"
      ],
      "text/plain": [
       "             date                               cust_id  price  \\\n",
       "16796  2019-01-18  05fa0274-07ed-424f-9930-9e00a181a57b   1999   \n",
       "16797  2019-01-18  05fa0274-07ed-424f-9930-9e00a181a57b   1499   \n",
       "16798  2019-01-11  0cbc10e5-005a-4960-a7fb-28931bd82daf   1199   \n",
       "16799  2019-01-18  1256d1c8-feae-4226-871a-b90e7d918ee0    299   \n",
       "16800  2019-01-18  1256d1c8-feae-4226-871a-b90e7d918ee0    299   \n",
       "\n",
       "             product_id  \n",
       "16796  TI778SH75SKEDFMX  \n",
       "16797  TI778SH87SJSDFMX  \n",
       "16798  TH934AT94SAVDFMX  \n",
       "16799  SQ017AT94NEVDFMX  \n",
       "16800  DO528AB27RRWDFMX  "
      ]
     },
     "execution_count": 10,
     "metadata": {},
     "output_type": "execute_result"
    }
   ],
   "source": [
    "tx_data.drop([\"event\",\"category\"],axis=1,inplace=True)\n",
    "tx_data.head()"
   ]
  },
  {
   "cell_type": "markdown",
   "metadata": {},
   "source": [
    "### We have all the crucial information we need:\n",
    "•\tdate\n",
    "•\tcustomer id\n",
    "•\tprice\n",
    "•\tproduct_id\n",
    "With all these features:\n",
    "Revenue = Active Customer Count ** Order Count ** Average Revenue per Order\n",
    "\n",
    "To calculate Monthly Revenue purchase need to do data preprocessing.."
   ]
  },
  {
   "cell_type": "code",
   "execution_count": 11,
   "metadata": {
    "collapsed": false
   },
   "outputs": [
    {
     "data": {
      "text/plain": [
       "(9464, 4)"
      ]
     },
     "execution_count": 11,
     "metadata": {},
     "output_type": "execute_result"
    }
   ],
   "source": [
    "tx_data.shape"
   ]
  },
  {
   "cell_type": "code",
   "execution_count": 12,
   "metadata": {
    "collapsed": false
   },
   "outputs": [],
   "source": [
    "import datetime\n",
    "#converting the type of  Date Field from string to date.\n",
    "tx_data['date'] = pd.to_datetime(tx_data['date'])\n",
    "\n",
    "#creating day,Month field for the ease of reporting and visualization\n",
    "tx_data['date_day']=tx_data['date'].dt.day\n",
    "tx_data['Month'] = tx_data['date'].dt.month"
   ]
  },
  {
   "cell_type": "code",
   "execution_count": 13,
   "metadata": {
    "collapsed": false
   },
   "outputs": [
    {
     "data": {
      "text/html": [
       "<div>\n",
       "<table border=\"1\" class=\"dataframe\">\n",
       "  <thead>\n",
       "    <tr style=\"text-align: right;\">\n",
       "      <th></th>\n",
       "      <th>date</th>\n",
       "      <th>cust_id</th>\n",
       "      <th>price</th>\n",
       "      <th>product_id</th>\n",
       "      <th>date_day</th>\n",
       "      <th>Month</th>\n",
       "    </tr>\n",
       "  </thead>\n",
       "  <tbody>\n",
       "    <tr>\n",
       "      <th>16796</th>\n",
       "      <td>2019-01-18</td>\n",
       "      <td>05fa0274-07ed-424f-9930-9e00a181a57b</td>\n",
       "      <td>1999</td>\n",
       "      <td>TI778SH75SKEDFMX</td>\n",
       "      <td>18</td>\n",
       "      <td>1</td>\n",
       "    </tr>\n",
       "    <tr>\n",
       "      <th>16797</th>\n",
       "      <td>2019-01-18</td>\n",
       "      <td>05fa0274-07ed-424f-9930-9e00a181a57b</td>\n",
       "      <td>1499</td>\n",
       "      <td>TI778SH87SJSDFMX</td>\n",
       "      <td>18</td>\n",
       "      <td>1</td>\n",
       "    </tr>\n",
       "    <tr>\n",
       "      <th>16798</th>\n",
       "      <td>2019-01-11</td>\n",
       "      <td>0cbc10e5-005a-4960-a7fb-28931bd82daf</td>\n",
       "      <td>1199</td>\n",
       "      <td>TH934AT94SAVDFMX</td>\n",
       "      <td>11</td>\n",
       "      <td>1</td>\n",
       "    </tr>\n",
       "    <tr>\n",
       "      <th>16799</th>\n",
       "      <td>2019-01-18</td>\n",
       "      <td>1256d1c8-feae-4226-871a-b90e7d918ee0</td>\n",
       "      <td>299</td>\n",
       "      <td>SQ017AT94NEVDFMX</td>\n",
       "      <td>18</td>\n",
       "      <td>1</td>\n",
       "    </tr>\n",
       "    <tr>\n",
       "      <th>16800</th>\n",
       "      <td>2019-01-18</td>\n",
       "      <td>1256d1c8-feae-4226-871a-b90e7d918ee0</td>\n",
       "      <td>299</td>\n",
       "      <td>DO528AB27RRWDFMX</td>\n",
       "      <td>18</td>\n",
       "      <td>1</td>\n",
       "    </tr>\n",
       "  </tbody>\n",
       "</table>\n",
       "</div>"
      ],
      "text/plain": [
       "            date                               cust_id  price  \\\n",
       "16796 2019-01-18  05fa0274-07ed-424f-9930-9e00a181a57b   1999   \n",
       "16797 2019-01-18  05fa0274-07ed-424f-9930-9e00a181a57b   1499   \n",
       "16798 2019-01-11  0cbc10e5-005a-4960-a7fb-28931bd82daf   1199   \n",
       "16799 2019-01-18  1256d1c8-feae-4226-871a-b90e7d918ee0    299   \n",
       "16800 2019-01-18  1256d1c8-feae-4226-871a-b90e7d918ee0    299   \n",
       "\n",
       "             product_id  date_day  Month  \n",
       "16796  TI778SH75SKEDFMX        18      1  \n",
       "16797  TI778SH87SJSDFMX        18      1  \n",
       "16798  TH934AT94SAVDFMX        11      1  \n",
       "16799  SQ017AT94NEVDFMX        18      1  \n",
       "16800  DO528AB27RRWDFMX        18      1  "
      ]
     },
     "execution_count": 13,
     "metadata": {},
     "output_type": "execute_result"
    }
   ],
   "source": [
    "tx_data.head()"
   ]
  },
  {
   "cell_type": "code",
   "execution_count": 14,
   "metadata": {
    "collapsed": false,
    "scrolled": false
   },
   "outputs": [
    {
     "data": {
      "text/html": [
       "<div>\n",
       "<table border=\"1\" class=\"dataframe\">\n",
       "  <thead>\n",
       "    <tr style=\"text-align: right;\">\n",
       "      <th></th>\n",
       "      <th>Month</th>\n",
       "      <th>date_day</th>\n",
       "      <th>price</th>\n",
       "    </tr>\n",
       "  </thead>\n",
       "  <tbody>\n",
       "    <tr>\n",
       "      <th>0</th>\n",
       "      <td>1</td>\n",
       "      <td>1</td>\n",
       "      <td>1225</td>\n",
       "    </tr>\n",
       "    <tr>\n",
       "      <th>1</th>\n",
       "      <td>1</td>\n",
       "      <td>2</td>\n",
       "      <td>8357</td>\n",
       "    </tr>\n",
       "    <tr>\n",
       "      <th>2</th>\n",
       "      <td>1</td>\n",
       "      <td>3</td>\n",
       "      <td>12765</td>\n",
       "    </tr>\n",
       "    <tr>\n",
       "      <th>3</th>\n",
       "      <td>1</td>\n",
       "      <td>4</td>\n",
       "      <td>5976</td>\n",
       "    </tr>\n",
       "    <tr>\n",
       "      <th>4</th>\n",
       "      <td>1</td>\n",
       "      <td>5</td>\n",
       "      <td>4290</td>\n",
       "    </tr>\n",
       "  </tbody>\n",
       "</table>\n",
       "</div>"
      ],
      "text/plain": [
       "   Month  date_day  price\n",
       "0      1         1   1225\n",
       "1      1         2   8357\n",
       "2      1         3  12765\n",
       "3      1         4   5976\n",
       "4      1         5   4290"
      ]
     },
     "execution_count": 14,
     "metadata": {},
     "output_type": "execute_result"
    }
   ],
   "source": [
    "#calculate Revenue/Sales for each row and create a new dataframe with YearMonth - Revenue columns\n",
    "tx_df = tx_data.groupby(['Month','date_day'])['price'].sum().reset_index()\n",
    "tx_df.head()"
   ]
  },
  {
   "cell_type": "code",
   "execution_count": null,
   "metadata": {
    "collapsed": true
   },
   "outputs": [],
   "source": []
  },
  {
   "cell_type": "markdown",
   "metadata": {},
   "source": [
    "### total_sales price distribution day wise, Most of the days transaction happen less than 50000Rs/-"
   ]
  },
  {
   "cell_type": "code",
   "execution_count": 15,
   "metadata": {
    "collapsed": false,
    "scrolled": true
   },
   "outputs": [
    {
     "name": "stderr",
     "output_type": "stream",
     "text": [
      "C:\\Users\\Raghuram\\Anaconda3\\lib\\site-packages\\scipy\\stats\\stats.py:1626: FutureWarning:\n",
      "\n",
      "Using a non-tuple sequence for multidimensional indexing is deprecated; use `arr[tuple(seq)]` instead of `arr[seq]`. In the future this will be interpreted as an array index, `arr[np.array(seq)]`, which will result either in an error or a different result.\n",
      "\n"
     ]
    },
    {
     "data": {
      "text/plain": [
       "<matplotlib.axes._subplots.AxesSubplot at 0x60d4ea1908>"
      ]
     },
     "execution_count": 15,
     "metadata": {},
     "output_type": "execute_result"
    },
    {
     "data": {
      "image/png": "[encoded data removed]",
      "text/plain": [
       "<matplotlib.figure.Figure at 0x60c31b7550>"
      ]
     },
     "metadata": {},
     "output_type": "display_data"
    }
   ],
   "source": [
    "\n",
    "sns.distplot(tx_df[\"price\"],kde=False)"
   ]
  },
  {
   "cell_type": "markdown",
   "metadata": {
    "collapsed": true
   },
   "source": [
    "### Most of the times all the months having transactions with price < 150000 but only in 5 th month trasaction are more than 250000"
   ]
  },
  {
   "cell_type": "code",
   "execution_count": 16,
   "metadata": {
    "collapsed": false
   },
   "outputs": [
    {
     "data": {
      "text/plain": [
       "<seaborn.axisgrid.FacetGrid at 0x6082136ef0>"
      ]
     },
     "execution_count": 16,
     "metadata": {},
     "output_type": "execute_result"
    },
    {
     "data": {
      "image/png": "[encoded data removed]",
      "text/plain": [
       "<matplotlib.figure.Figure at 0x6082136588>"
      ]
     },
     "metadata": {},
     "output_type": "display_data"
    }
   ],
   "source": [
    "sns.lmplot('Month', 'price', \n",
    "           data=tx_df,palette=\"Set1\",\n",
    "           fit_reg=False)\n"
   ]
  },
  {
   "cell_type": "code",
   "execution_count": 35,
   "metadata": {
    "collapsed": false
   },
   "outputs": [
    {
     "data": {
      "text/html": [
       "<div>\n",
       "<table border=\"1\" class=\"dataframe\">\n",
       "  <thead>\n",
       "    <tr style=\"text-align: right;\">\n",
       "      <th></th>\n",
       "      <th>Month</th>\n",
       "      <th>price</th>\n",
       "    </tr>\n",
       "  </thead>\n",
       "  <tbody>\n",
       "    <tr>\n",
       "      <th>0</th>\n",
       "      <td>1</td>\n",
       "      <td>559367</td>\n",
       "    </tr>\n",
       "    <tr>\n",
       "      <th>1</th>\n",
       "      <td>2</td>\n",
       "      <td>568819</td>\n",
       "    </tr>\n",
       "    <tr>\n",
       "      <th>2</th>\n",
       "      <td>3</td>\n",
       "      <td>662641</td>\n",
       "    </tr>\n",
       "    <tr>\n",
       "      <th>3</th>\n",
       "      <td>4</td>\n",
       "      <td>882597</td>\n",
       "    </tr>\n",
       "    <tr>\n",
       "      <th>4</th>\n",
       "      <td>5</td>\n",
       "      <td>2041727</td>\n",
       "    </tr>\n",
       "    <tr>\n",
       "      <th>5</th>\n",
       "      <td>6</td>\n",
       "      <td>143296</td>\n",
       "    </tr>\n",
       "  </tbody>\n",
       "</table>\n",
       "</div>"
      ],
      "text/plain": [
       "   Month    price\n",
       "0      1   559367\n",
       "1      2   568819\n",
       "2      3   662641\n",
       "3      4   882597\n",
       "4      5  2041727\n",
       "5      6   143296"
      ]
     },
     "execution_count": 35,
     "metadata": {},
     "output_type": "execute_result"
    }
   ],
   "source": [
    "td=tx_data.groupby(['Month'])['price'].sum().reset_index()\n",
    "td"
   ]
  },
  {
   "cell_type": "markdown",
   "metadata": {
    "collapsed": true
   },
   "source": [
    "### In the month of may had more order values and sudden decay in june. Further analysis need to be done deeply to know reasons june month has less purchase prices/sales."
   ]
  },
  {
   "cell_type": "code",
   "execution_count": 69,
   "metadata": {
    "collapsed": false
   },
   "outputs": [
    {
     "data": {
      "text/plain": [
       "<seaborn.axisgrid.FacetGrid at 0x553c29b208>"
      ]
     },
     "execution_count": 69,
     "metadata": {},
     "output_type": "execute_result"
    },
    {
     "data": {
      "image/png": "[encoded data removed]",
      "text/plain": [
       "<matplotlib.figure.Figure at 0x553c29b6d8>"
      ]
     },
     "metadata": {},
     "output_type": "display_data"
    }
   ],
   "source": [
    "sns.lmplot('Month', 'price', \n",
    "           data=td,palette=\"Set1\",\n",
    "           fit_reg=False)\n"
   ]
  },
  {
   "cell_type": "markdown",
   "metadata": {},
   "source": [
    "### By looking at the frequency of transactions by the customers, most of the customers did transations less than 5 times. Graph is positively skewed."
   ]
  },
  {
   "cell_type": "code",
   "execution_count": 73,
   "metadata": {
    "collapsed": false
   },
   "outputs": [
    {
     "data": {
      "text/plain": [
       "(array([ 1656.,   542.,   315.,    68.,    92.,    54.,    17.,    27.,\n",
       "           12.,     6.]),\n",
       " array([  1. ,   2.7,   4.4,   6.1,   7.8,   9.5,  11.2,  12.9,  14.6,\n",
       "         16.3,  18. ]),\n",
       " <a list of 10 Patch objects>)"
      ]
     },
     "execution_count": 73,
     "metadata": {},
     "output_type": "execute_result"
    },
    {
     "data": {
      "image/png": "[encoded data removed]",
      "text/plain": [
       "<matplotlib.figure.Figure at 0xa680b61f60>"
      ]
     },
     "metadata": {},
     "output_type": "display_data"
    }
   ],
   "source": [
    "cus_freq=pd.DataFrame(tx_data[\"cust_id\"].value_counts(),columns=[\"cust_id\",\"no.trans\"])\n",
    "plt.hist(tx_data[\"cust_id\"].value_counts()[30:,])\n"
   ]
  },
  {
   "cell_type": "markdown",
   "metadata": {
    "collapsed": true
   },
   "source": [
    "## Statiscs for customers frequency count\n",
    "1. 75% of the customers they buought products less than 4 times. (needs to increase the frequent purchase by customers to get increase in sales as there are more customers.\n",
    "2. 25% of the customers bought products more than 4 times i.e. between 4 to 125 times.\n",
    "3. So they are more frequently purchasing products they should be important for our business we need to retain then if    they seems to be leave by looking at the frequency of purchase decreases.\n",
    "4. There are total 2819 customers ordered the products in the total dataset of having 8Lakh unique customers\n",
    "   over who viewed, addto cart and buy events."
   ]
  },
  {
   "cell_type": "code",
   "execution_count": 72,
   "metadata": {
    "collapsed": false
   },
   "outputs": [
    {
     "data": {
      "text/plain": [
       "count    2819.000000\n",
       "mean        3.357219\n",
       "std         4.798616\n",
       "min         1.000000\n",
       "25%         1.000000\n",
       "50%         2.000000\n",
       "75%         4.000000\n",
       "max       125.000000\n",
       "Name: cust_id, dtype: float64"
      ]
     },
     "execution_count": 72,
     "metadata": {},
     "output_type": "execute_result"
    }
   ],
   "source": [
    "tx_data[\"cust_id\"].value_counts().describe()"
   ]
  },
  {
   "cell_type": "markdown",
   "metadata": {
    "collapsed": true
   },
   "source": [
    "## Monthly active customers\n",
    "\n",
    "below bargraph shows that there are more customers who did purchases in the month of may\n"
   ]
  },
  {
   "cell_type": "code",
   "execution_count": 78,
   "metadata": {
    "collapsed": false
   },
   "outputs": [
    {
     "data": {
      "text/html": [
       "<div>\n",
       "<table border=\"1\" class=\"dataframe\">\n",
       "  <thead>\n",
       "    <tr style=\"text-align: right;\">\n",
       "      <th></th>\n",
       "      <th>Month</th>\n",
       "      <th>cust_id</th>\n",
       "    </tr>\n",
       "  </thead>\n",
       "  <tbody>\n",
       "    <tr>\n",
       "      <th>0</th>\n",
       "      <td>1</td>\n",
       "      <td>419</td>\n",
       "    </tr>\n",
       "    <tr>\n",
       "      <th>1</th>\n",
       "      <td>2</td>\n",
       "      <td>392</td>\n",
       "    </tr>\n",
       "    <tr>\n",
       "      <th>2</th>\n",
       "      <td>3</td>\n",
       "      <td>519</td>\n",
       "    </tr>\n",
       "    <tr>\n",
       "      <th>3</th>\n",
       "      <td>4</td>\n",
       "      <td>462</td>\n",
       "    </tr>\n",
       "    <tr>\n",
       "      <th>4</th>\n",
       "      <td>5</td>\n",
       "      <td>1137</td>\n",
       "    </tr>\n",
       "    <tr>\n",
       "      <th>5</th>\n",
       "      <td>6</td>\n",
       "      <td>91</td>\n",
       "    </tr>\n",
       "  </tbody>\n",
       "</table>\n",
       "</div>"
      ],
      "text/plain": [
       "   Month  cust_id\n",
       "0      1      419\n",
       "1      2      392\n",
       "2      3      519\n",
       "3      4      462\n",
       "4      5     1137\n",
       "5      6       91"
      ]
     },
     "execution_count": 78,
     "metadata": {},
     "output_type": "execute_result"
    }
   ],
   "source": [
    "#creating monthly active customers dataframe by counting unique Customer IDs\n",
    "tx_monthly_active = tx_data.groupby('Month')['cust_id'].nunique().reset_index()\n",
    "\n",
    "#print the dataframe\n",
    "tx_monthly_active"
   ]
  },
  {
   "cell_type": "code",
   "execution_count": 79,
   "metadata": {
    "collapsed": false
   },
   "outputs": [
    {
     "data": {
      "text/plain": [
       "<Container object of 6 artists>"
      ]
     },
     "execution_count": 79,
     "metadata": {},
     "output_type": "execute_result"
    },
    {
     "data": {
      "image/png": "[encoded data removed]",
      "text/plain": [
       "<matplotlib.figure.Figure at 0xa680c5e278>"
      ]
     },
     "metadata": {},
     "output_type": "display_data"
    }
   ],
   "source": [
    "plt.barh(tx_monthly_active['Month'],tx_monthly_active['cust_id'])"
   ]
  },
  {
   "cell_type": "markdown",
   "metadata": {
    "collapsed": true
   },
   "source": [
    "#### Over all monthly average sales\n",
    "From the bar chart below shows average monthly sales price gradually increases till 4th month and decay in 5 th month"
   ]
  },
  {
   "cell_type": "code",
   "execution_count": 83,
   "metadata": {
    "collapsed": false
   },
   "outputs": [
    {
     "data": {
      "text/html": [
       "<div>\n",
       "<table border=\"1\" class=\"dataframe\">\n",
       "  <thead>\n",
       "    <tr style=\"text-align: right;\">\n",
       "      <th></th>\n",
       "      <th>Month</th>\n",
       "      <th>price</th>\n",
       "    </tr>\n",
       "  </thead>\n",
       "  <tbody>\n",
       "    <tr>\n",
       "      <th>0</th>\n",
       "      <td>1</td>\n",
       "      <td>411.601913</td>\n",
       "    </tr>\n",
       "    <tr>\n",
       "      <th>1</th>\n",
       "      <td>2</td>\n",
       "      <td>564.304563</td>\n",
       "    </tr>\n",
       "    <tr>\n",
       "      <th>2</th>\n",
       "      <td>3</td>\n",
       "      <td>475.011470</td>\n",
       "    </tr>\n",
       "    <tr>\n",
       "      <th>3</th>\n",
       "      <td>4</td>\n",
       "      <td>624.184583</td>\n",
       "    </tr>\n",
       "    <tr>\n",
       "      <th>4</th>\n",
       "      <td>5</td>\n",
       "      <td>517.941908</td>\n",
       "    </tr>\n",
       "    <tr>\n",
       "      <th>5</th>\n",
       "      <td>6</td>\n",
       "      <td>414.150289</td>\n",
       "    </tr>\n",
       "  </tbody>\n",
       "</table>\n",
       "</div>"
      ],
      "text/plain": [
       "   Month       price\n",
       "0      1  411.601913\n",
       "1      2  564.304563\n",
       "2      3  475.011470\n",
       "3      4  624.184583\n",
       "4      5  517.941908\n",
       "5      6  414.150289"
      ]
     },
     "execution_count": 83,
     "metadata": {},
     "output_type": "execute_result"
    }
   ],
   "source": [
    "# create a new dataframe for average revenue by taking the mean of it\n",
    "tx_monthly_order_avg = tx_data.groupby('Month')['price'].mean().reset_index()\n",
    "\n",
    "#print the dataframe\n",
    "tx_monthly_order_avg\n"
   ]
  },
  {
   "cell_type": "code",
   "execution_count": 86,
   "metadata": {
    "collapsed": false
   },
   "outputs": [
    {
     "data": {
      "text/plain": [
       "<Container object of 6 artists>"
      ]
     },
     "execution_count": 86,
     "metadata": {},
     "output_type": "execute_result"
    },
    {
     "data": {
      "image/png": "[encoded data removed]",
      "text/plain": [
       "<matplotlib.figure.Figure at 0xa680b7b8d0>"
      ]
     },
     "metadata": {},
     "output_type": "display_data"
    }
   ],
   "source": [
    "plt.bar(tx_monthly_order_avg['Month'],tx_monthly_order_avg['price'])"
   ]
  },
  {
   "cell_type": "markdown",
   "metadata": {},
   "source": [
    "\n",
    "We have looked at our major metrics. Of course there are many more and it varies across industries. \n",
    "Let’s continue investigating some other important metrics:\n",
    "#### New Customer Ratio: \n",
    "     A good indicator of if we are losing our existing customers or unable to attract new ones.\n",
    "     A new customer is whoever did his/her first purchase in the time window we defined.\n",
    "#### Retention Rate:  \n",
    "     Retention Rate indicates how many customers we retain over specific time window. \n",
    "     Below is showing monthly retention rate of customers."
   ]
  },
  {
   "cell_type": "code",
   "execution_count": 106,
   "metadata": {
    "collapsed": false
   },
   "outputs": [],
   "source": [
    "#create a dataframe contaning CustomerID and first purchase date\n",
    "tx_min_purchase = tx_data.groupby('cust_id').date.min().reset_index()\n",
    "tx_min_purchase.columns = ['cust_id','MinPurchaseDate']\n",
    "tx_min_purchase['MinPurchaseYearMonth'] = tx_min_purchase['MinPurchaseDate'].map(lambda date: 100*date.year + date.month)\n",
    "\n",
    "#merge first purchase date column to our main dataframe (tx_uk)\n",
    "tx_data2 = pd.merge(tx_data, tx_min_purchase, on='cust_id')\n",
    "\n",
    "#tx_data2.to_csv(\"C:\\\\Users\\\\Raghuram\\\\Desktop\\\\Python Project customer analytics\\\\min_purchase_date.csv\")"
   ]
  },
  {
   "cell_type": "code",
   "execution_count": 119,
   "metadata": {
    "collapsed": false
   },
   "outputs": [
    {
     "data": {
      "text/html": [
       "<div>\n",
       "<table border=\"1\" class=\"dataframe\">\n",
       "  <thead>\n",
       "    <tr style=\"text-align: right;\">\n",
       "      <th></th>\n",
       "      <th>date</th>\n",
       "      <th>cust_id</th>\n",
       "      <th>price</th>\n",
       "      <th>product_id</th>\n",
       "      <th>date_day</th>\n",
       "      <th>Month</th>\n",
       "      <th>MinPurchaseDate</th>\n",
       "      <th>MinPurchaseYearMonth</th>\n",
       "      <th>UserType</th>\n",
       "    </tr>\n",
       "  </thead>\n",
       "  <tbody>\n",
       "    <tr>\n",
       "      <th>0</th>\n",
       "      <td>2019-01-18</td>\n",
       "      <td>05fa0274-07ed-424f-9930-9e00a181a57b</td>\n",
       "      <td>1999</td>\n",
       "      <td>TI778SH75SKEDFMX</td>\n",
       "      <td>18</td>\n",
       "      <td>1</td>\n",
       "      <td>2019-01-18</td>\n",
       "      <td>201901</td>\n",
       "      <td>New</td>\n",
       "    </tr>\n",
       "    <tr>\n",
       "      <th>1</th>\n",
       "      <td>2019-01-18</td>\n",
       "      <td>05fa0274-07ed-424f-9930-9e00a181a57b</td>\n",
       "      <td>1499</td>\n",
       "      <td>TI778SH87SJSDFMX</td>\n",
       "      <td>18</td>\n",
       "      <td>1</td>\n",
       "      <td>2019-01-18</td>\n",
       "      <td>201901</td>\n",
       "      <td>New</td>\n",
       "    </tr>\n",
       "    <tr>\n",
       "      <th>2</th>\n",
       "      <td>2019-01-11</td>\n",
       "      <td>0cbc10e5-005a-4960-a7fb-28931bd82daf</td>\n",
       "      <td>1199</td>\n",
       "      <td>TH934AT94SAVDFMX</td>\n",
       "      <td>11</td>\n",
       "      <td>1</td>\n",
       "      <td>2019-01-11</td>\n",
       "      <td>201901</td>\n",
       "      <td>New</td>\n",
       "    </tr>\n",
       "    <tr>\n",
       "      <th>3</th>\n",
       "      <td>2019-01-18</td>\n",
       "      <td>1256d1c8-feae-4226-871a-b90e7d918ee0</td>\n",
       "      <td>299</td>\n",
       "      <td>SQ017AT94NEVDFMX</td>\n",
       "      <td>18</td>\n",
       "      <td>1</td>\n",
       "      <td>2019-01-18</td>\n",
       "      <td>201901</td>\n",
       "      <td>New</td>\n",
       "    </tr>\n",
       "    <tr>\n",
       "      <th>4</th>\n",
       "      <td>2019-01-18</td>\n",
       "      <td>1256d1c8-feae-4226-871a-b90e7d918ee0</td>\n",
       "      <td>299</td>\n",
       "      <td>DO528AB27RRWDFMX</td>\n",
       "      <td>18</td>\n",
       "      <td>1</td>\n",
       "      <td>2019-01-18</td>\n",
       "      <td>201901</td>\n",
       "      <td>New</td>\n",
       "    </tr>\n",
       "  </tbody>\n",
       "</table>\n",
       "</div>"
      ],
      "text/plain": [
       "        date                               cust_id  price        product_id  \\\n",
       "0 2019-01-18  05fa0274-07ed-424f-9930-9e00a181a57b   1999  TI778SH75SKEDFMX   \n",
       "1 2019-01-18  05fa0274-07ed-424f-9930-9e00a181a57b   1499  TI778SH87SJSDFMX   \n",
       "2 2019-01-11  0cbc10e5-005a-4960-a7fb-28931bd82daf   1199  TH934AT94SAVDFMX   \n",
       "3 2019-01-18  1256d1c8-feae-4226-871a-b90e7d918ee0    299  SQ017AT94NEVDFMX   \n",
       "4 2019-01-18  1256d1c8-feae-4226-871a-b90e7d918ee0    299  DO528AB27RRWDFMX   \n",
       "\n",
       "   date_day  Month MinPurchaseDate  MinPurchaseYearMonth UserType  \n",
       "0        18      1      2019-01-18                201901      New  \n",
       "1        18      1      2019-01-18                201901      New  \n",
       "2        11      1      2019-01-11                201901      New  \n",
       "3        18      1      2019-01-18                201901      New  \n",
       "4        18      1      2019-01-18                201901      New  "
      ]
     },
     "execution_count": 119,
     "metadata": {},
     "output_type": "execute_result"
    }
   ],
   "source": [
    "tx_data2.head()"
   ]
  },
  {
   "cell_type": "code",
   "execution_count": 123,
   "metadata": {
    "collapsed": false
   },
   "outputs": [],
   "source": [
    "#create a column called User Type and assign Existing \n",
    "#if User's First Purchase Year Month before the selected date Year Month\n",
    "tx_data2['UserType'] = 'New'\n",
    "tx_data2.loc[tx_data2['date']>tx_data2['MinPurchaseDate'],'UserType'] = 'Existing'\n",
    "\n",
    "#calculate the Revenue per month for each user type\n",
    "tx_user_type_revenue = tx_data2.groupby(['Month','UserType'])['price'].sum().reset_index()"
   ]
  },
  {
   "cell_type": "code",
   "execution_count": 118,
   "metadata": {
    "collapsed": false
   },
   "outputs": [
    {
     "data": {
      "text/html": [
       "<div>\n",
       "<table border=\"1\" class=\"dataframe\">\n",
       "  <thead>\n",
       "    <tr style=\"text-align: right;\">\n",
       "      <th></th>\n",
       "      <th>date</th>\n",
       "      <th>cust_id</th>\n",
       "      <th>price</th>\n",
       "      <th>product_id</th>\n",
       "      <th>date_day</th>\n",
       "      <th>Month</th>\n",
       "      <th>MinPurchaseDate</th>\n",
       "      <th>MinPurchaseYearMonth</th>\n",
       "      <th>UserType</th>\n",
       "    </tr>\n",
       "  </thead>\n",
       "  <tbody>\n",
       "    <tr>\n",
       "      <th>0</th>\n",
       "      <td>2019-01-18</td>\n",
       "      <td>05fa0274-07ed-424f-9930-9e00a181a57b</td>\n",
       "      <td>1999</td>\n",
       "      <td>TI778SH75SKEDFMX</td>\n",
       "      <td>18</td>\n",
       "      <td>1</td>\n",
       "      <td>2019-01-18</td>\n",
       "      <td>201901</td>\n",
       "      <td>New</td>\n",
       "    </tr>\n",
       "    <tr>\n",
       "      <th>1</th>\n",
       "      <td>2019-01-18</td>\n",
       "      <td>05fa0274-07ed-424f-9930-9e00a181a57b</td>\n",
       "      <td>1499</td>\n",
       "      <td>TI778SH87SJSDFMX</td>\n",
       "      <td>18</td>\n",
       "      <td>1</td>\n",
       "      <td>2019-01-18</td>\n",
       "      <td>201901</td>\n",
       "      <td>New</td>\n",
       "    </tr>\n",
       "    <tr>\n",
       "      <th>2</th>\n",
       "      <td>2019-01-11</td>\n",
       "      <td>0cbc10e5-005a-4960-a7fb-28931bd82daf</td>\n",
       "      <td>1199</td>\n",
       "      <td>TH934AT94SAVDFMX</td>\n",
       "      <td>11</td>\n",
       "      <td>1</td>\n",
       "      <td>2019-01-11</td>\n",
       "      <td>201901</td>\n",
       "      <td>New</td>\n",
       "    </tr>\n",
       "    <tr>\n",
       "      <th>3</th>\n",
       "      <td>2019-01-18</td>\n",
       "      <td>1256d1c8-feae-4226-871a-b90e7d918ee0</td>\n",
       "      <td>299</td>\n",
       "      <td>SQ017AT94NEVDFMX</td>\n",
       "      <td>18</td>\n",
       "      <td>1</td>\n",
       "      <td>2019-01-18</td>\n",
       "      <td>201901</td>\n",
       "      <td>New</td>\n",
       "    </tr>\n",
       "    <tr>\n",
       "      <th>4</th>\n",
       "      <td>2019-01-18</td>\n",
       "      <td>1256d1c8-feae-4226-871a-b90e7d918ee0</td>\n",
       "      <td>299</td>\n",
       "      <td>DO528AB27RRWDFMX</td>\n",
       "      <td>18</td>\n",
       "      <td>1</td>\n",
       "      <td>2019-01-18</td>\n",
       "      <td>201901</td>\n",
       "      <td>New</td>\n",
       "    </tr>\n",
       "    <tr>\n",
       "      <th>5</th>\n",
       "      <td>2019-01-18</td>\n",
       "      <td>1256d1c8-feae-4226-871a-b90e7d918ee0</td>\n",
       "      <td>329</td>\n",
       "      <td>PH184AT97GFYDFMX</td>\n",
       "      <td>18</td>\n",
       "      <td>1</td>\n",
       "      <td>2019-01-18</td>\n",
       "      <td>201901</td>\n",
       "      <td>New</td>\n",
       "    </tr>\n",
       "    <tr>\n",
       "      <th>6</th>\n",
       "      <td>2019-01-08</td>\n",
       "      <td>16f9603d-50c1-4115-903d-e28660746711</td>\n",
       "      <td>299</td>\n",
       "      <td>GO016AT78BJTDFMX</td>\n",
       "      <td>8</td>\n",
       "      <td>1</td>\n",
       "      <td>2019-01-08</td>\n",
       "      <td>201901</td>\n",
       "      <td>New</td>\n",
       "    </tr>\n",
       "    <tr>\n",
       "      <th>7</th>\n",
       "      <td>2019-01-08</td>\n",
       "      <td>16f9603d-50c1-4115-903d-e28660746711</td>\n",
       "      <td>349</td>\n",
       "      <td>ZO302AT17BAODFMX</td>\n",
       "      <td>8</td>\n",
       "      <td>1</td>\n",
       "      <td>2019-01-08</td>\n",
       "      <td>201901</td>\n",
       "      <td>New</td>\n",
       "    </tr>\n",
       "    <tr>\n",
       "      <th>8</th>\n",
       "      <td>2019-01-08</td>\n",
       "      <td>16f9603d-50c1-4115-903d-e28660746711</td>\n",
       "      <td>349</td>\n",
       "      <td>ZO302AT18BANDFMX</td>\n",
       "      <td>8</td>\n",
       "      <td>1</td>\n",
       "      <td>2019-01-08</td>\n",
       "      <td>201901</td>\n",
       "      <td>New</td>\n",
       "    </tr>\n",
       "    <tr>\n",
       "      <th>9</th>\n",
       "      <td>2019-01-08</td>\n",
       "      <td>16f9603d-50c1-4115-903d-e28660746711</td>\n",
       "      <td>299</td>\n",
       "      <td>GO016AT39BLGDFMX</td>\n",
       "      <td>8</td>\n",
       "      <td>1</td>\n",
       "      <td>2019-01-08</td>\n",
       "      <td>201901</td>\n",
       "      <td>New</td>\n",
       "    </tr>\n",
       "    <tr>\n",
       "      <th>10</th>\n",
       "      <td>2019-01-08</td>\n",
       "      <td>16f9603d-50c1-4115-903d-e28660746711</td>\n",
       "      <td>299</td>\n",
       "      <td>GO016AT75BJWDFMX</td>\n",
       "      <td>8</td>\n",
       "      <td>1</td>\n",
       "      <td>2019-01-08</td>\n",
       "      <td>201901</td>\n",
       "      <td>New</td>\n",
       "    </tr>\n",
       "    <tr>\n",
       "      <th>11</th>\n",
       "      <td>2019-01-04</td>\n",
       "      <td>1b33e61c-8d36-4a31-a50f-0b21c46221cc</td>\n",
       "      <td>229</td>\n",
       "      <td>IF511AT07MHGDFMX</td>\n",
       "      <td>4</td>\n",
       "      <td>1</td>\n",
       "      <td>2019-01-04</td>\n",
       "      <td>201901</td>\n",
       "      <td>New</td>\n",
       "    </tr>\n",
       "    <tr>\n",
       "      <th>12</th>\n",
       "      <td>2019-01-04</td>\n",
       "      <td>1b33e61c-8d36-4a31-a50f-0b21c46221cc</td>\n",
       "      <td>199</td>\n",
       "      <td>IF511AT06MDLDFMX</td>\n",
       "      <td>4</td>\n",
       "      <td>1</td>\n",
       "      <td>2019-01-04</td>\n",
       "      <td>201901</td>\n",
       "      <td>New</td>\n",
       "    </tr>\n",
       "    <tr>\n",
       "      <th>13</th>\n",
       "      <td>2019-01-04</td>\n",
       "      <td>1b33e61c-8d36-4a31-a50f-0b21c46221cc</td>\n",
       "      <td>199</td>\n",
       "      <td>DO528AT51ODODFMX</td>\n",
       "      <td>4</td>\n",
       "      <td>1</td>\n",
       "      <td>2019-01-04</td>\n",
       "      <td>201901</td>\n",
       "      <td>New</td>\n",
       "    </tr>\n",
       "    <tr>\n",
       "      <th>14</th>\n",
       "      <td>2019-01-04</td>\n",
       "      <td>1b33e61c-8d36-4a31-a50f-0b21c46221cc</td>\n",
       "      <td>499</td>\n",
       "      <td>YA927AB12QOPDFMX</td>\n",
       "      <td>4</td>\n",
       "      <td>1</td>\n",
       "      <td>2019-01-04</td>\n",
       "      <td>201901</td>\n",
       "      <td>New</td>\n",
       "    </tr>\n",
       "    <tr>\n",
       "      <th>15</th>\n",
       "      <td>2019-01-04</td>\n",
       "      <td>1b33e61c-8d36-4a31-a50f-0b21c46221cc</td>\n",
       "      <td>129</td>\n",
       "      <td>IF511AT04MDNDFMX</td>\n",
       "      <td>4</td>\n",
       "      <td>1</td>\n",
       "      <td>2019-01-04</td>\n",
       "      <td>201901</td>\n",
       "      <td>New</td>\n",
       "    </tr>\n",
       "    <tr>\n",
       "      <th>16</th>\n",
       "      <td>2019-01-04</td>\n",
       "      <td>1f11197c-e047-4ab3-9a31-73282d6b0468</td>\n",
       "      <td>499</td>\n",
       "      <td>DO528AT88SPNDFMX</td>\n",
       "      <td>4</td>\n",
       "      <td>1</td>\n",
       "      <td>2019-01-04</td>\n",
       "      <td>201901</td>\n",
       "      <td>New</td>\n",
       "    </tr>\n",
       "    <tr>\n",
       "      <th>17</th>\n",
       "      <td>2019-01-06</td>\n",
       "      <td>1f11197c-e047-4ab3-9a31-73282d6b0468</td>\n",
       "      <td>499</td>\n",
       "      <td>DO528AT88SPNDFMX</td>\n",
       "      <td>6</td>\n",
       "      <td>1</td>\n",
       "      <td>2019-01-04</td>\n",
       "      <td>201901</td>\n",
       "      <td>Existing</td>\n",
       "    </tr>\n",
       "    <tr>\n",
       "      <th>18</th>\n",
       "      <td>2019-01-18</td>\n",
       "      <td>257bf898-99db-4c02-aa3f-d0bd06cc543a</td>\n",
       "      <td>224</td>\n",
       "      <td>RE924AT19ZGIDFMX</td>\n",
       "      <td>18</td>\n",
       "      <td>1</td>\n",
       "      <td>2019-01-18</td>\n",
       "      <td>201901</td>\n",
       "      <td>New</td>\n",
       "    </tr>\n",
       "    <tr>\n",
       "      <th>19</th>\n",
       "      <td>2019-01-18</td>\n",
       "      <td>257bf898-99db-4c02-aa3f-d0bd06cc543a</td>\n",
       "      <td>299</td>\n",
       "      <td>RE924AT08ZGTDFMX</td>\n",
       "      <td>18</td>\n",
       "      <td>1</td>\n",
       "      <td>2019-01-18</td>\n",
       "      <td>201901</td>\n",
       "      <td>New</td>\n",
       "    </tr>\n",
       "    <tr>\n",
       "      <th>20</th>\n",
       "      <td>2019-01-18</td>\n",
       "      <td>257bf898-99db-4c02-aa3f-d0bd06cc543a</td>\n",
       "      <td>262</td>\n",
       "      <td>RE924AT03ZGYDFMX</td>\n",
       "      <td>18</td>\n",
       "      <td>1</td>\n",
       "      <td>2019-01-18</td>\n",
       "      <td>201901</td>\n",
       "      <td>New</td>\n",
       "    </tr>\n",
       "    <tr>\n",
       "      <th>21</th>\n",
       "      <td>2019-01-18</td>\n",
       "      <td>257bf898-99db-4c02-aa3f-d0bd06cc543a</td>\n",
       "      <td>187</td>\n",
       "      <td>ON819AT93OMODFMX</td>\n",
       "      <td>18</td>\n",
       "      <td>1</td>\n",
       "      <td>2019-01-18</td>\n",
       "      <td>201901</td>\n",
       "      <td>New</td>\n",
       "    </tr>\n",
       "    <tr>\n",
       "      <th>22</th>\n",
       "      <td>2019-01-18</td>\n",
       "      <td>257bf898-99db-4c02-aa3f-d0bd06cc543a</td>\n",
       "      <td>299</td>\n",
       "      <td>RE924AT08ZGTDFMX</td>\n",
       "      <td>18</td>\n",
       "      <td>1</td>\n",
       "      <td>2019-01-18</td>\n",
       "      <td>201901</td>\n",
       "      <td>New</td>\n",
       "    </tr>\n",
       "    <tr>\n",
       "      <th>23</th>\n",
       "      <td>2019-01-18</td>\n",
       "      <td>257bf898-99db-4c02-aa3f-d0bd06cc543a</td>\n",
       "      <td>224</td>\n",
       "      <td>RE924AT19ZGIDFMX</td>\n",
       "      <td>18</td>\n",
       "      <td>1</td>\n",
       "      <td>2019-01-18</td>\n",
       "      <td>201901</td>\n",
       "      <td>New</td>\n",
       "    </tr>\n",
       "    <tr>\n",
       "      <th>24</th>\n",
       "      <td>2019-01-18</td>\n",
       "      <td>257bf898-99db-4c02-aa3f-d0bd06cc543a</td>\n",
       "      <td>187</td>\n",
       "      <td>ON819AT93OMODFMX</td>\n",
       "      <td>18</td>\n",
       "      <td>1</td>\n",
       "      <td>2019-01-18</td>\n",
       "      <td>201901</td>\n",
       "      <td>New</td>\n",
       "    </tr>\n",
       "    <tr>\n",
       "      <th>25</th>\n",
       "      <td>2019-01-18</td>\n",
       "      <td>276e60f8-1663-43ee-b6db-8ea954226a39</td>\n",
       "      <td>349</td>\n",
       "      <td>RE924AB91ZHKDFMX</td>\n",
       "      <td>18</td>\n",
       "      <td>1</td>\n",
       "      <td>2019-01-18</td>\n",
       "      <td>201901</td>\n",
       "      <td>New</td>\n",
       "    </tr>\n",
       "    <tr>\n",
       "      <th>26</th>\n",
       "      <td>2019-01-18</td>\n",
       "      <td>276e60f8-1663-43ee-b6db-8ea954226a39</td>\n",
       "      <td>349</td>\n",
       "      <td>RE924AB90ZHLDFMX</td>\n",
       "      <td>18</td>\n",
       "      <td>1</td>\n",
       "      <td>2019-01-18</td>\n",
       "      <td>201901</td>\n",
       "      <td>New</td>\n",
       "    </tr>\n",
       "    <tr>\n",
       "      <th>27</th>\n",
       "      <td>2019-01-11</td>\n",
       "      <td>280cc382-6953-46f5-81ea-6cb04b9661cf</td>\n",
       "      <td>249</td>\n",
       "      <td>RE924SH77ZHYDFMX</td>\n",
       "      <td>11</td>\n",
       "      <td>1</td>\n",
       "      <td>2019-01-11</td>\n",
       "      <td>201901</td>\n",
       "      <td>New</td>\n",
       "    </tr>\n",
       "    <tr>\n",
       "      <th>28</th>\n",
       "      <td>2019-01-08</td>\n",
       "      <td>2e9a709f-dc27-4d23-99ca-6deff3318db2</td>\n",
       "      <td>249</td>\n",
       "      <td>RE924AT23MKMDFMX</td>\n",
       "      <td>8</td>\n",
       "      <td>1</td>\n",
       "      <td>2019-01-08</td>\n",
       "      <td>201901</td>\n",
       "      <td>New</td>\n",
       "    </tr>\n",
       "    <tr>\n",
       "      <th>29</th>\n",
       "      <td>2019-01-11</td>\n",
       "      <td>2feed2b4-b77f-4afd-93ad-eb7711f99d31</td>\n",
       "      <td>169</td>\n",
       "      <td>HP918AT93JMSDFMX</td>\n",
       "      <td>11</td>\n",
       "      <td>1</td>\n",
       "      <td>2019-01-11</td>\n",
       "      <td>201901</td>\n",
       "      <td>New</td>\n",
       "    </tr>\n",
       "    <tr>\n",
       "      <th>...</th>\n",
       "      <td>...</td>\n",
       "      <td>...</td>\n",
       "      <td>...</td>\n",
       "      <td>...</td>\n",
       "      <td>...</td>\n",
       "      <td>...</td>\n",
       "      <td>...</td>\n",
       "      <td>...</td>\n",
       "      <td>...</td>\n",
       "    </tr>\n",
       "    <tr>\n",
       "      <th>9434</th>\n",
       "      <td>2019-05-31</td>\n",
       "      <td>a955fcb5-151a-42a0-8c01-1cae06100b15</td>\n",
       "      <td>449</td>\n",
       "      <td>FO821AC51BVKDFMX</td>\n",
       "      <td>31</td>\n",
       "      <td>5</td>\n",
       "      <td>2019-05-31</td>\n",
       "      <td>201905</td>\n",
       "      <td>New</td>\n",
       "    </tr>\n",
       "    <tr>\n",
       "      <th>9435</th>\n",
       "      <td>2019-05-31</td>\n",
       "      <td>f90c7bea-443f-4e8b-b522-7479f0709ee7</td>\n",
       "      <td>299</td>\n",
       "      <td>JU430AT38DXTDFMX</td>\n",
       "      <td>31</td>\n",
       "      <td>5</td>\n",
       "      <td>2019-05-31</td>\n",
       "      <td>201905</td>\n",
       "      <td>New</td>\n",
       "    </tr>\n",
       "    <tr>\n",
       "      <th>9436</th>\n",
       "      <td>2019-05-31</td>\n",
       "      <td>f90c7bea-443f-4e8b-b522-7479f0709ee7</td>\n",
       "      <td>499</td>\n",
       "      <td>JU430AB45CFEDFMX</td>\n",
       "      <td>31</td>\n",
       "      <td>5</td>\n",
       "      <td>2019-05-31</td>\n",
       "      <td>201905</td>\n",
       "      <td>New</td>\n",
       "    </tr>\n",
       "    <tr>\n",
       "      <th>9437</th>\n",
       "      <td>2019-05-31</td>\n",
       "      <td>f90c7bea-443f-4e8b-b522-7479f0709ee7</td>\n",
       "      <td>499</td>\n",
       "      <td>JU430AB41CFIDFMX</td>\n",
       "      <td>31</td>\n",
       "      <td>5</td>\n",
       "      <td>2019-05-31</td>\n",
       "      <td>201905</td>\n",
       "      <td>New</td>\n",
       "    </tr>\n",
       "    <tr>\n",
       "      <th>9438</th>\n",
       "      <td>2019-05-31</td>\n",
       "      <td>f90c7bea-443f-4e8b-b522-7479f0709ee7</td>\n",
       "      <td>499</td>\n",
       "      <td>JU430AB37CFMDFMX</td>\n",
       "      <td>31</td>\n",
       "      <td>5</td>\n",
       "      <td>2019-05-31</td>\n",
       "      <td>201905</td>\n",
       "      <td>New</td>\n",
       "    </tr>\n",
       "    <tr>\n",
       "      <th>9439</th>\n",
       "      <td>2019-06-03</td>\n",
       "      <td>4ef31e0a-47f1-49d6-8b63-00ecf84f0b40</td>\n",
       "      <td>349</td>\n",
       "      <td>RE924AT64INVDFMX</td>\n",
       "      <td>3</td>\n",
       "      <td>6</td>\n",
       "      <td>2019-06-03</td>\n",
       "      <td>201906</td>\n",
       "      <td>New</td>\n",
       "    </tr>\n",
       "    <tr>\n",
       "      <th>9440</th>\n",
       "      <td>2019-06-03</td>\n",
       "      <td>4ef31e0a-47f1-49d6-8b63-00ecf84f0b40</td>\n",
       "      <td>149</td>\n",
       "      <td>FU503AC87IFGDFMX</td>\n",
       "      <td>3</td>\n",
       "      <td>6</td>\n",
       "      <td>2019-06-03</td>\n",
       "      <td>201906</td>\n",
       "      <td>New</td>\n",
       "    </tr>\n",
       "    <tr>\n",
       "      <th>9441</th>\n",
       "      <td>2019-06-03</td>\n",
       "      <td>75138e98-b1b4-4040-91af-61019ea70d97</td>\n",
       "      <td>249</td>\n",
       "      <td>GU531AT05IXUDFMX</td>\n",
       "      <td>3</td>\n",
       "      <td>6</td>\n",
       "      <td>2019-06-03</td>\n",
       "      <td>201906</td>\n",
       "      <td>New</td>\n",
       "    </tr>\n",
       "    <tr>\n",
       "      <th>9442</th>\n",
       "      <td>2019-06-03</td>\n",
       "      <td>75138e98-b1b4-4040-91af-61019ea70d97</td>\n",
       "      <td>699</td>\n",
       "      <td>GU531AT27YJWDFMX</td>\n",
       "      <td>3</td>\n",
       "      <td>6</td>\n",
       "      <td>2019-06-03</td>\n",
       "      <td>201906</td>\n",
       "      <td>New</td>\n",
       "    </tr>\n",
       "    <tr>\n",
       "      <th>9443</th>\n",
       "      <td>2019-06-03</td>\n",
       "      <td>75138e98-b1b4-4040-91af-61019ea70d97</td>\n",
       "      <td>499</td>\n",
       "      <td>DO528AT27NEMDFMX</td>\n",
       "      <td>3</td>\n",
       "      <td>6</td>\n",
       "      <td>2019-06-03</td>\n",
       "      <td>201906</td>\n",
       "      <td>New</td>\n",
       "    </tr>\n",
       "    <tr>\n",
       "      <th>9444</th>\n",
       "      <td>2019-06-03</td>\n",
       "      <td>75138e98-b1b4-4040-91af-61019ea70d97</td>\n",
       "      <td>149</td>\n",
       "      <td>RE924AT64LIXDFMX</td>\n",
       "      <td>3</td>\n",
       "      <td>6</td>\n",
       "      <td>2019-06-03</td>\n",
       "      <td>201906</td>\n",
       "      <td>New</td>\n",
       "    </tr>\n",
       "    <tr>\n",
       "      <th>9445</th>\n",
       "      <td>2019-06-03</td>\n",
       "      <td>75138e98-b1b4-4040-91af-61019ea70d97</td>\n",
       "      <td>499</td>\n",
       "      <td>OG723AB54QYNDFMX</td>\n",
       "      <td>3</td>\n",
       "      <td>6</td>\n",
       "      <td>2019-06-03</td>\n",
       "      <td>201906</td>\n",
       "      <td>New</td>\n",
       "    </tr>\n",
       "    <tr>\n",
       "      <th>9446</th>\n",
       "      <td>2019-06-03</td>\n",
       "      <td>75138e98-b1b4-4040-91af-61019ea70d97</td>\n",
       "      <td>499</td>\n",
       "      <td>TH934AB51WKYDFMX</td>\n",
       "      <td>3</td>\n",
       "      <td>6</td>\n",
       "      <td>2019-06-03</td>\n",
       "      <td>201906</td>\n",
       "      <td>New</td>\n",
       "    </tr>\n",
       "    <tr>\n",
       "      <th>9447</th>\n",
       "      <td>2019-06-03</td>\n",
       "      <td>aa83085a-a120-4f0d-b2fe-f48b0630d620</td>\n",
       "      <td>279</td>\n",
       "      <td>CU824AT50VCJDFMX</td>\n",
       "      <td>3</td>\n",
       "      <td>6</td>\n",
       "      <td>2019-06-03</td>\n",
       "      <td>201906</td>\n",
       "      <td>New</td>\n",
       "    </tr>\n",
       "    <tr>\n",
       "      <th>9448</th>\n",
       "      <td>2019-06-03</td>\n",
       "      <td>aa83085a-a120-4f0d-b2fe-f48b0630d620</td>\n",
       "      <td>399</td>\n",
       "      <td>RE924AT70VBPDFMX</td>\n",
       "      <td>3</td>\n",
       "      <td>6</td>\n",
       "      <td>2019-06-03</td>\n",
       "      <td>201906</td>\n",
       "      <td>New</td>\n",
       "    </tr>\n",
       "    <tr>\n",
       "      <th>9449</th>\n",
       "      <td>2019-06-03</td>\n",
       "      <td>aa83085a-a120-4f0d-b2fe-f48b0630d620</td>\n",
       "      <td>349</td>\n",
       "      <td>RE924AT87RYEDFMX</td>\n",
       "      <td>3</td>\n",
       "      <td>6</td>\n",
       "      <td>2019-06-03</td>\n",
       "      <td>201906</td>\n",
       "      <td>New</td>\n",
       "    </tr>\n",
       "    <tr>\n",
       "      <th>9450</th>\n",
       "      <td>2019-06-03</td>\n",
       "      <td>ea5dd8e8-52b5-42a4-9885-db2f0927d33e</td>\n",
       "      <td>699</td>\n",
       "      <td>LE063AT49UFIDFMX</td>\n",
       "      <td>3</td>\n",
       "      <td>6</td>\n",
       "      <td>2019-06-03</td>\n",
       "      <td>201906</td>\n",
       "      <td>New</td>\n",
       "    </tr>\n",
       "    <tr>\n",
       "      <th>9451</th>\n",
       "      <td>2019-06-03</td>\n",
       "      <td>ea5dd8e8-52b5-42a4-9885-db2f0927d33e</td>\n",
       "      <td>799</td>\n",
       "      <td>DA418BE40LVJDFMX</td>\n",
       "      <td>3</td>\n",
       "      <td>6</td>\n",
       "      <td>2019-06-03</td>\n",
       "      <td>201906</td>\n",
       "      <td>New</td>\n",
       "    </tr>\n",
       "    <tr>\n",
       "      <th>9452</th>\n",
       "      <td>2019-06-03</td>\n",
       "      <td>ea5dd8e8-52b5-42a4-9885-db2f0927d33e</td>\n",
       "      <td>129</td>\n",
       "      <td>VI152AB29ZZEDFMX</td>\n",
       "      <td>3</td>\n",
       "      <td>6</td>\n",
       "      <td>2019-06-03</td>\n",
       "      <td>201906</td>\n",
       "      <td>New</td>\n",
       "    </tr>\n",
       "    <tr>\n",
       "      <th>9453</th>\n",
       "      <td>2019-06-03</td>\n",
       "      <td>ea5dd8e8-52b5-42a4-9885-db2f0927d33e</td>\n",
       "      <td>129</td>\n",
       "      <td>VI152AB94AANDFMX</td>\n",
       "      <td>3</td>\n",
       "      <td>6</td>\n",
       "      <td>2019-06-03</td>\n",
       "      <td>201906</td>\n",
       "      <td>New</td>\n",
       "    </tr>\n",
       "    <tr>\n",
       "      <th>9454</th>\n",
       "      <td>2019-06-03</td>\n",
       "      <td>f8c3af30-f386-4c52-a604-004ce3358f72</td>\n",
       "      <td>399</td>\n",
       "      <td>RE924AT17NBADFMX</td>\n",
       "      <td>3</td>\n",
       "      <td>6</td>\n",
       "      <td>2019-06-03</td>\n",
       "      <td>201906</td>\n",
       "      <td>New</td>\n",
       "    </tr>\n",
       "    <tr>\n",
       "      <th>9455</th>\n",
       "      <td>2019-06-03</td>\n",
       "      <td>f8c3af30-f386-4c52-a604-004ce3358f72</td>\n",
       "      <td>199</td>\n",
       "      <td>RE924AT24OBRDFMX</td>\n",
       "      <td>3</td>\n",
       "      <td>6</td>\n",
       "      <td>2019-06-03</td>\n",
       "      <td>201906</td>\n",
       "      <td>New</td>\n",
       "    </tr>\n",
       "    <tr>\n",
       "      <th>9456</th>\n",
       "      <td>2019-06-03</td>\n",
       "      <td>f8c3af30-f386-4c52-a604-004ce3358f72</td>\n",
       "      <td>229</td>\n",
       "      <td>QU143AT59IVSDFMX</td>\n",
       "      <td>3</td>\n",
       "      <td>6</td>\n",
       "      <td>2019-06-03</td>\n",
       "      <td>201906</td>\n",
       "      <td>New</td>\n",
       "    </tr>\n",
       "    <tr>\n",
       "      <th>9457</th>\n",
       "      <td>2019-06-03</td>\n",
       "      <td>f8c3af30-f386-4c52-a604-004ce3358f72</td>\n",
       "      <td>112</td>\n",
       "      <td>EX228AT72UFRDFMX</td>\n",
       "      <td>3</td>\n",
       "      <td>6</td>\n",
       "      <td>2019-06-03</td>\n",
       "      <td>201906</td>\n",
       "      <td>New</td>\n",
       "    </tr>\n",
       "    <tr>\n",
       "      <th>9458</th>\n",
       "      <td>2019-06-03</td>\n",
       "      <td>f8c3af30-f386-4c52-a604-004ce3358f72</td>\n",
       "      <td>899</td>\n",
       "      <td>LE063AT52UFFDFMX</td>\n",
       "      <td>3</td>\n",
       "      <td>6</td>\n",
       "      <td>2019-06-03</td>\n",
       "      <td>201906</td>\n",
       "      <td>New</td>\n",
       "    </tr>\n",
       "    <tr>\n",
       "      <th>9459</th>\n",
       "      <td>2019-06-03</td>\n",
       "      <td>22fc4946-7e13-4f6a-b4c6-0cca8dc0bd44</td>\n",
       "      <td>833</td>\n",
       "      <td>AD096AT38TAZDFMX</td>\n",
       "      <td>3</td>\n",
       "      <td>6</td>\n",
       "      <td>2019-06-03</td>\n",
       "      <td>201906</td>\n",
       "      <td>New</td>\n",
       "    </tr>\n",
       "    <tr>\n",
       "      <th>9460</th>\n",
       "      <td>2019-06-03</td>\n",
       "      <td>22fc4946-7e13-4f6a-b4c6-0cca8dc0bd44</td>\n",
       "      <td>833</td>\n",
       "      <td>AD096AT39TAYDFMX</td>\n",
       "      <td>3</td>\n",
       "      <td>6</td>\n",
       "      <td>2019-06-03</td>\n",
       "      <td>201906</td>\n",
       "      <td>New</td>\n",
       "    </tr>\n",
       "    <tr>\n",
       "      <th>9461</th>\n",
       "      <td>2019-06-03</td>\n",
       "      <td>22fc4946-7e13-4f6a-b4c6-0cca8dc0bd44</td>\n",
       "      <td>799</td>\n",
       "      <td>AD096AT79MYQDFMX</td>\n",
       "      <td>3</td>\n",
       "      <td>6</td>\n",
       "      <td>2019-06-03</td>\n",
       "      <td>201906</td>\n",
       "      <td>New</td>\n",
       "    </tr>\n",
       "    <tr>\n",
       "      <th>9462</th>\n",
       "      <td>2019-06-03</td>\n",
       "      <td>22fc4946-7e13-4f6a-b4c6-0cca8dc0bd44</td>\n",
       "      <td>799</td>\n",
       "      <td>AD096AT77MYSDFMX</td>\n",
       "      <td>3</td>\n",
       "      <td>6</td>\n",
       "      <td>2019-06-03</td>\n",
       "      <td>201906</td>\n",
       "      <td>New</td>\n",
       "    </tr>\n",
       "    <tr>\n",
       "      <th>9463</th>\n",
       "      <td>2019-06-03</td>\n",
       "      <td>248f9450-afcd-4d64-86a1-4cfb9ade5813</td>\n",
       "      <td>899</td>\n",
       "      <td>NE074SH93FRQDFMX</td>\n",
       "      <td>3</td>\n",
       "      <td>6</td>\n",
       "      <td>2019-06-03</td>\n",
       "      <td>201906</td>\n",
       "      <td>New</td>\n",
       "    </tr>\n",
       "  </tbody>\n",
       "</table>\n",
       "<p>9464 rows × 9 columns</p>\n",
       "</div>"
      ],
      "text/plain": [
       "           date                               cust_id  price  \\\n",
       "0    2019-01-18  05fa0274-07ed-424f-9930-9e00a181a57b   1999   \n",
       "1    2019-01-18  05fa0274-07ed-424f-9930-9e00a181a57b   1499   \n",
       "2    2019-01-11  0cbc10e5-005a-4960-a7fb-28931bd82daf   1199   \n",
       "3    2019-01-18  1256d1c8-feae-4226-871a-b90e7d918ee0    299   \n",
       "4    2019-01-18  1256d1c8-feae-4226-871a-b90e7d918ee0    299   \n",
       "5    2019-01-18  1256d1c8-feae-4226-871a-b90e7d918ee0    329   \n",
       "6    2019-01-08  16f9603d-50c1-4115-903d-e28660746711    299   \n",
       "7    2019-01-08  16f9603d-50c1-4115-903d-e28660746711    349   \n",
       "8    2019-01-08  16f9603d-50c1-4115-903d-e28660746711    349   \n",
       "9    2019-01-08  16f9603d-50c1-4115-903d-e28660746711    299   \n",
       "10   2019-01-08  16f9603d-50c1-4115-903d-e28660746711    299   \n",
       "11   2019-01-04  1b33e61c-8d36-4a31-a50f-0b21c46221cc    229   \n",
       "12   2019-01-04  1b33e61c-8d36-4a31-a50f-0b21c46221cc    199   \n",
       "13   2019-01-04  1b33e61c-8d36-4a31-a50f-0b21c46221cc    199   \n",
       "14   2019-01-04  1b33e61c-8d36-4a31-a50f-0b21c46221cc    499   \n",
       "15   2019-01-04  1b33e61c-8d36-4a31-a50f-0b21c46221cc    129   \n",
       "16   2019-01-04  1f11197c-e047-4ab3-9a31-73282d6b0468    499   \n",
       "17   2019-01-06  1f11197c-e047-4ab3-9a31-73282d6b0468    499   \n",
       "18   2019-01-18  257bf898-99db-4c02-aa3f-d0bd06cc543a    224   \n",
       "19   2019-01-18  257bf898-99db-4c02-aa3f-d0bd06cc543a    299   \n",
       "20   2019-01-18  257bf898-99db-4c02-aa3f-d0bd06cc543a    262   \n",
       "21   2019-01-18  257bf898-99db-4c02-aa3f-d0bd06cc543a    187   \n",
       "22   2019-01-18  257bf898-99db-4c02-aa3f-d0bd06cc543a    299   \n",
       "23   2019-01-18  257bf898-99db-4c02-aa3f-d0bd06cc543a    224   \n",
       "24   2019-01-18  257bf898-99db-4c02-aa3f-d0bd06cc543a    187   \n",
       "25   2019-01-18  276e60f8-1663-43ee-b6db-8ea954226a39    349   \n",
       "26   2019-01-18  276e60f8-1663-43ee-b6db-8ea954226a39    349   \n",
       "27   2019-01-11  280cc382-6953-46f5-81ea-6cb04b9661cf    249   \n",
       "28   2019-01-08  2e9a709f-dc27-4d23-99ca-6deff3318db2    249   \n",
       "29   2019-01-11  2feed2b4-b77f-4afd-93ad-eb7711f99d31    169   \n",
       "...         ...                                   ...    ...   \n",
       "9434 2019-05-31  a955fcb5-151a-42a0-8c01-1cae06100b15    449   \n",
       "9435 2019-05-31  f90c7bea-443f-4e8b-b522-7479f0709ee7    299   \n",
       "9436 2019-05-31  f90c7bea-443f-4e8b-b522-7479f0709ee7    499   \n",
       "9437 2019-05-31  f90c7bea-443f-4e8b-b522-7479f0709ee7    499   \n",
       "9438 2019-05-31  f90c7bea-443f-4e8b-b522-7479f0709ee7    499   \n",
       "9439 2019-06-03  4ef31e0a-47f1-49d6-8b63-00ecf84f0b40    349   \n",
       "9440 2019-06-03  4ef31e0a-47f1-49d6-8b63-00ecf84f0b40    149   \n",
       "9441 2019-06-03  75138e98-b1b4-4040-91af-61019ea70d97    249   \n",
       "9442 2019-06-03  75138e98-b1b4-4040-91af-61019ea70d97    699   \n",
       "9443 2019-06-03  75138e98-b1b4-4040-91af-61019ea70d97    499   \n",
       "9444 2019-06-03  75138e98-b1b4-4040-91af-61019ea70d97    149   \n",
       "9445 2019-06-03  75138e98-b1b4-4040-91af-61019ea70d97    499   \n",
       "9446 2019-06-03  75138e98-b1b4-4040-91af-61019ea70d97    499   \n",
       "9447 2019-06-03  aa83085a-a120-4f0d-b2fe-f48b0630d620    279   \n",
       "9448 2019-06-03  aa83085a-a120-4f0d-b2fe-f48b0630d620    399   \n",
       "9449 2019-06-03  aa83085a-a120-4f0d-b2fe-f48b0630d620    349   \n",
       "9450 2019-06-03  ea5dd8e8-52b5-42a4-9885-db2f0927d33e    699   \n",
       "9451 2019-06-03  ea5dd8e8-52b5-42a4-9885-db2f0927d33e    799   \n",
       "9452 2019-06-03  ea5dd8e8-52b5-42a4-9885-db2f0927d33e    129   \n",
       "9453 2019-06-03  ea5dd8e8-52b5-42a4-9885-db2f0927d33e    129   \n",
       "9454 2019-06-03  f8c3af30-f386-4c52-a604-004ce3358f72    399   \n",
       "9455 2019-06-03  f8c3af30-f386-4c52-a604-004ce3358f72    199   \n",
       "9456 2019-06-03  f8c3af30-f386-4c52-a604-004ce3358f72    229   \n",
       "9457 2019-06-03  f8c3af30-f386-4c52-a604-004ce3358f72    112   \n",
       "9458 2019-06-03  f8c3af30-f386-4c52-a604-004ce3358f72    899   \n",
       "9459 2019-06-03  22fc4946-7e13-4f6a-b4c6-0cca8dc0bd44    833   \n",
       "9460 2019-06-03  22fc4946-7e13-4f6a-b4c6-0cca8dc0bd44    833   \n",
       "9461 2019-06-03  22fc4946-7e13-4f6a-b4c6-0cca8dc0bd44    799   \n",
       "9462 2019-06-03  22fc4946-7e13-4f6a-b4c6-0cca8dc0bd44    799   \n",
       "9463 2019-06-03  248f9450-afcd-4d64-86a1-4cfb9ade5813    899   \n",
       "\n",
       "            product_id  date_day  Month MinPurchaseDate  MinPurchaseYearMonth  \\\n",
       "0     TI778SH75SKEDFMX        18      1      2019-01-18                201901   \n",
       "1     TI778SH87SJSDFMX        18      1      2019-01-18                201901   \n",
       "2     TH934AT94SAVDFMX        11      1      2019-01-11                201901   \n",
       "3     SQ017AT94NEVDFMX        18      1      2019-01-18                201901   \n",
       "4     DO528AB27RRWDFMX        18      1      2019-01-18                201901   \n",
       "5     PH184AT97GFYDFMX        18      1      2019-01-18                201901   \n",
       "6     GO016AT78BJTDFMX         8      1      2019-01-08                201901   \n",
       "7     ZO302AT17BAODFMX         8      1      2019-01-08                201901   \n",
       "8     ZO302AT18BANDFMX         8      1      2019-01-08                201901   \n",
       "9     GO016AT39BLGDFMX         8      1      2019-01-08                201901   \n",
       "10    GO016AT75BJWDFMX         8      1      2019-01-08                201901   \n",
       "11    IF511AT07MHGDFMX         4      1      2019-01-04                201901   \n",
       "12    IF511AT06MDLDFMX         4      1      2019-01-04                201901   \n",
       "13    DO528AT51ODODFMX         4      1      2019-01-04                201901   \n",
       "14    YA927AB12QOPDFMX         4      1      2019-01-04                201901   \n",
       "15    IF511AT04MDNDFMX         4      1      2019-01-04                201901   \n",
       "16    DO528AT88SPNDFMX         4      1      2019-01-04                201901   \n",
       "17    DO528AT88SPNDFMX         6      1      2019-01-04                201901   \n",
       "18    RE924AT19ZGIDFMX        18      1      2019-01-18                201901   \n",
       "19    RE924AT08ZGTDFMX        18      1      2019-01-18                201901   \n",
       "20    RE924AT03ZGYDFMX        18      1      2019-01-18                201901   \n",
       "21    ON819AT93OMODFMX        18      1      2019-01-18                201901   \n",
       "22    RE924AT08ZGTDFMX        18      1      2019-01-18                201901   \n",
       "23    RE924AT19ZGIDFMX        18      1      2019-01-18                201901   \n",
       "24    ON819AT93OMODFMX        18      1      2019-01-18                201901   \n",
       "25    RE924AB91ZHKDFMX        18      1      2019-01-18                201901   \n",
       "26    RE924AB90ZHLDFMX        18      1      2019-01-18                201901   \n",
       "27    RE924SH77ZHYDFMX        11      1      2019-01-11                201901   \n",
       "28    RE924AT23MKMDFMX         8      1      2019-01-08                201901   \n",
       "29    HP918AT93JMSDFMX        11      1      2019-01-11                201901   \n",
       "...                ...       ...    ...             ...                   ...   \n",
       "9434  FO821AC51BVKDFMX        31      5      2019-05-31                201905   \n",
       "9435  JU430AT38DXTDFMX        31      5      2019-05-31                201905   \n",
       "9436  JU430AB45CFEDFMX        31      5      2019-05-31                201905   \n",
       "9437  JU430AB41CFIDFMX        31      5      2019-05-31                201905   \n",
       "9438  JU430AB37CFMDFMX        31      5      2019-05-31                201905   \n",
       "9439  RE924AT64INVDFMX         3      6      2019-06-03                201906   \n",
       "9440  FU503AC87IFGDFMX         3      6      2019-06-03                201906   \n",
       "9441  GU531AT05IXUDFMX         3      6      2019-06-03                201906   \n",
       "9442  GU531AT27YJWDFMX         3      6      2019-06-03                201906   \n",
       "9443  DO528AT27NEMDFMX         3      6      2019-06-03                201906   \n",
       "9444  RE924AT64LIXDFMX         3      6      2019-06-03                201906   \n",
       "9445  OG723AB54QYNDFMX         3      6      2019-06-03                201906   \n",
       "9446  TH934AB51WKYDFMX         3      6      2019-06-03                201906   \n",
       "9447  CU824AT50VCJDFMX         3      6      2019-06-03                201906   \n",
       "9448  RE924AT70VBPDFMX         3      6      2019-06-03                201906   \n",
       "9449  RE924AT87RYEDFMX         3      6      2019-06-03                201906   \n",
       "9450  LE063AT49UFIDFMX         3      6      2019-06-03                201906   \n",
       "9451  DA418BE40LVJDFMX         3      6      2019-06-03                201906   \n",
       "9452  VI152AB29ZZEDFMX         3      6      2019-06-03                201906   \n",
       "9453  VI152AB94AANDFMX         3      6      2019-06-03                201906   \n",
       "9454  RE924AT17NBADFMX         3      6      2019-06-03                201906   \n",
       "9455  RE924AT24OBRDFMX         3      6      2019-06-03                201906   \n",
       "9456  QU143AT59IVSDFMX         3      6      2019-06-03                201906   \n",
       "9457  EX228AT72UFRDFMX         3      6      2019-06-03                201906   \n",
       "9458  LE063AT52UFFDFMX         3      6      2019-06-03                201906   \n",
       "9459  AD096AT38TAZDFMX         3      6      2019-06-03                201906   \n",
       "9460  AD096AT39TAYDFMX         3      6      2019-06-03                201906   \n",
       "9461  AD096AT79MYQDFMX         3      6      2019-06-03                201906   \n",
       "9462  AD096AT77MYSDFMX         3      6      2019-06-03                201906   \n",
       "9463  NE074SH93FRQDFMX         3      6      2019-06-03                201906   \n",
       "\n",
       "      UserType  \n",
       "0          New  \n",
       "1          New  \n",
       "2          New  \n",
       "3          New  \n",
       "4          New  \n",
       "5          New  \n",
       "6          New  \n",
       "7          New  \n",
       "8          New  \n",
       "9          New  \n",
       "10         New  \n",
       "11         New  \n",
       "12         New  \n",
       "13         New  \n",
       "14         New  \n",
       "15         New  \n",
       "16         New  \n",
       "17    Existing  \n",
       "18         New  \n",
       "19         New  \n",
       "20         New  \n",
       "21         New  \n",
       "22         New  \n",
       "23         New  \n",
       "24         New  \n",
       "25         New  \n",
       "26         New  \n",
       "27         New  \n",
       "28         New  \n",
       "29         New  \n",
       "...        ...  \n",
       "9434       New  \n",
       "9435       New  \n",
       "9436       New  \n",
       "9437       New  \n",
       "9438       New  \n",
       "9439       New  \n",
       "9440       New  \n",
       "9441       New  \n",
       "9442       New  \n",
       "9443       New  \n",
       "9444       New  \n",
       "9445       New  \n",
       "9446       New  \n",
       "9447       New  \n",
       "9448       New  \n",
       "9449       New  \n",
       "9450       New  \n",
       "9451       New  \n",
       "9452       New  \n",
       "9453       New  \n",
       "9454       New  \n",
       "9455       New  \n",
       "9456       New  \n",
       "9457       New  \n",
       "9458       New  \n",
       "9459       New  \n",
       "9460       New  \n",
       "9461       New  \n",
       "9462       New  \n",
       "9463       New  \n",
       "\n",
       "[9464 rows x 9 columns]"
      ]
     },
     "execution_count": 118,
     "metadata": {},
     "output_type": "execute_result"
    }
   ],
   "source": [
    "tx_data2"
   ]
  },
  {
   "cell_type": "markdown",
   "metadata": {},
   "source": [
    "Revenue per month for New and Existing customers"
   ]
  },
  {
   "cell_type": "code",
   "execution_count": 124,
   "metadata": {
    "collapsed": false,
    "scrolled": true
   },
   "outputs": [
    {
     "data": {
      "text/html": [
       "<div>\n",
       "<table border=\"1\" class=\"dataframe\">\n",
       "  <thead>\n",
       "    <tr style=\"text-align: right;\">\n",
       "      <th></th>\n",
       "      <th>Month</th>\n",
       "      <th>UserType</th>\n",
       "      <th>price</th>\n",
       "    </tr>\n",
       "  </thead>\n",
       "  <tbody>\n",
       "    <tr>\n",
       "      <th>0</th>\n",
       "      <td>1</td>\n",
       "      <td>Existing</td>\n",
       "      <td>46901</td>\n",
       "    </tr>\n",
       "    <tr>\n",
       "      <th>1</th>\n",
       "      <td>1</td>\n",
       "      <td>New</td>\n",
       "      <td>512466</td>\n",
       "    </tr>\n",
       "    <tr>\n",
       "      <th>2</th>\n",
       "      <td>2</td>\n",
       "      <td>Existing</td>\n",
       "      <td>102948</td>\n",
       "    </tr>\n",
       "    <tr>\n",
       "      <th>3</th>\n",
       "      <td>2</td>\n",
       "      <td>New</td>\n",
       "      <td>465871</td>\n",
       "    </tr>\n",
       "    <tr>\n",
       "      <th>4</th>\n",
       "      <td>3</td>\n",
       "      <td>Existing</td>\n",
       "      <td>103240</td>\n",
       "    </tr>\n",
       "    <tr>\n",
       "      <th>5</th>\n",
       "      <td>3</td>\n",
       "      <td>New</td>\n",
       "      <td>559401</td>\n",
       "    </tr>\n",
       "    <tr>\n",
       "      <th>6</th>\n",
       "      <td>4</td>\n",
       "      <td>Existing</td>\n",
       "      <td>165009</td>\n",
       "    </tr>\n",
       "    <tr>\n",
       "      <th>7</th>\n",
       "      <td>4</td>\n",
       "      <td>New</td>\n",
       "      <td>717588</td>\n",
       "    </tr>\n",
       "    <tr>\n",
       "      <th>8</th>\n",
       "      <td>5</td>\n",
       "      <td>Existing</td>\n",
       "      <td>373736</td>\n",
       "    </tr>\n",
       "    <tr>\n",
       "      <th>9</th>\n",
       "      <td>5</td>\n",
       "      <td>New</td>\n",
       "      <td>1667991</td>\n",
       "    </tr>\n",
       "    <tr>\n",
       "      <th>10</th>\n",
       "      <td>6</td>\n",
       "      <td>Existing</td>\n",
       "      <td>46058</td>\n",
       "    </tr>\n",
       "    <tr>\n",
       "      <th>11</th>\n",
       "      <td>6</td>\n",
       "      <td>New</td>\n",
       "      <td>97238</td>\n",
       "    </tr>\n",
       "  </tbody>\n",
       "</table>\n",
       "</div>"
      ],
      "text/plain": [
       "    Month  UserType    price\n",
       "0       1  Existing    46901\n",
       "1       1       New   512466\n",
       "2       2  Existing   102948\n",
       "3       2       New   465871\n",
       "4       3  Existing   103240\n",
       "5       3       New   559401\n",
       "6       4  Existing   165009\n",
       "7       4       New   717588\n",
       "8       5  Existing   373736\n",
       "9       5       New  1667991\n",
       "10      6  Existing    46058\n",
       "11      6       New    97238"
      ]
     },
     "execution_count": 124,
     "metadata": {},
     "output_type": "execute_result"
    }
   ],
   "source": [
    "tx_user_type_revenue"
   ]
  },
  {
   "cell_type": "markdown",
   "metadata": {},
   "source": [
    "From the below plot we can say that the average sales quite more than the existing customers in each month compared \n",
    "to New customers in that month. Hence Need retention on existing customers to gain more retention rate.\n",
    "Graph show positive increase of sales for both new and existing customers."
   ]
  },
  {
   "cell_type": "code",
   "execution_count": 160,
   "metadata": {
    "collapsed": false
   },
   "outputs": [
    {
     "data": {
      "text/plain": [
       "<seaborn.axisgrid.FacetGrid at 0xa6812e04e0>"
      ]
     },
     "execution_count": 160,
     "metadata": {},
     "output_type": "execute_result"
    },
    {
     "data": {
      "image/png": "[encoded data removed]",
      "text/plain": [
       "<matplotlib.figure.Figure at 0xa6812d4978>"
      ]
     },
     "metadata": {},
     "output_type": "display_data"
    }
   ],
   "source": [
    "sns.lmplot(x='Month',y='price',data=tx_user_type_revenue,hue='UserType')\n"
   ]
  },
  {
   "cell_type": "markdown",
   "metadata": {
    "collapsed": true
   },
   "source": [
    "### New Customer Ratio"
   ]
  },
  {
   "cell_type": "code",
   "execution_count": 236,
   "metadata": {
    "collapsed": false
   },
   "outputs": [
    {
     "data": {
      "text/html": [
       "<div>\n",
       "<table border=\"1\" class=\"dataframe\">\n",
       "  <thead>\n",
       "    <tr style=\"text-align: right;\">\n",
       "      <th></th>\n",
       "      <th>Month</th>\n",
       "      <th>cust_id</th>\n",
       "    </tr>\n",
       "  </thead>\n",
       "  <tbody>\n",
       "    <tr>\n",
       "      <th>0</th>\n",
       "      <td>1</td>\n",
       "      <td>0.935268</td>\n",
       "    </tr>\n",
       "    <tr>\n",
       "      <th>1</th>\n",
       "      <td>2</td>\n",
       "      <td>0.880096</td>\n",
       "    </tr>\n",
       "    <tr>\n",
       "      <th>2</th>\n",
       "      <td>3</td>\n",
       "      <td>0.874307</td>\n",
       "    </tr>\n",
       "    <tr>\n",
       "      <th>3</th>\n",
       "      <td>4</td>\n",
       "      <td>0.873706</td>\n",
       "    </tr>\n",
       "    <tr>\n",
       "      <th>4</th>\n",
       "      <td>5</td>\n",
       "      <td>0.871020</td>\n",
       "    </tr>\n",
       "    <tr>\n",
       "      <th>5</th>\n",
       "      <td>6</td>\n",
       "      <td>0.747368</td>\n",
       "    </tr>\n",
       "  </tbody>\n",
       "</table>\n",
       "</div>"
      ],
      "text/plain": [
       "   Month   cust_id\n",
       "0      1  0.935268\n",
       "1      2  0.880096\n",
       "2      3  0.874307\n",
       "3      4  0.873706\n",
       "4      5  0.871020\n",
       "5      6  0.747368"
      ]
     },
     "execution_count": 236,
     "metadata": {},
     "output_type": "execute_result"
    }
   ],
   "source": [
    "#create a dataframe that shows new user ratio - we also need to drop NA values (first month new user ratio is 0)\n",
    "tx_user_ratio = tx_data2.query(\"UserType == 'New'\").groupby(['Month'])['cust_id'].nunique()/(tx_data2.query(\"UserType == 'Existing'\").groupby(['Month'])['cust_id'].nunique()+tx_data2.query(\"UserType == 'New'\").groupby(['Month'])['cust_id'].nunique()) \n",
    "tx_user_ratio = tx_user_ratio.reset_index()\n",
    "tx_user_ratio = tx_user_ratio.dropna()\n",
    "\n",
    "#print the dafaframe\n",
    "tx_user_ratio\n",
    "\n",
    "\n"
   ]
  },
  {
   "cell_type": "markdown",
   "metadata": {},
   "source": [
    "#### Monthly Customer Retention Rate\n",
    "customer retention rate is the percentage of customers you keep relative to the number you had at the start of your period. This does not count new customers. It is the reverse of customer churn.\n",
    "\n",
    "There are three pieces of information you need to calculate customer retention:\n",
    "\n",
    "Number of customer at the end of a period (E)\n",
    "\n",
    "Number of new customers acquired during that period (N)\n",
    "\n",
    "Number of customers at the start of that period (S)\n",
    "\n",
    "Monthly Retention Rate = ((E-N)/S)*100"
   ]
  },
  {
   "cell_type": "code",
   "execution_count": 348,
   "metadata": {
    "collapsed": false,
    "scrolled": true
   },
   "outputs": [
    {
     "data": {
      "text/html": [
       "<div>\n",
       "<table border=\"1\" class=\"dataframe\">\n",
       "  <thead>\n",
       "    <tr style=\"text-align: right;\">\n",
       "      <th></th>\n",
       "      <th>Month</th>\n",
       "      <th>New_count</th>\n",
       "      <th>Month</th>\n",
       "      <th>Existing_count</th>\n",
       "      <th>Total</th>\n",
       "      <th>retention_rate</th>\n",
       "    </tr>\n",
       "  </thead>\n",
       "  <tbody>\n",
       "    <tr>\n",
       "      <th>0</th>\n",
       "      <td>1</td>\n",
       "      <td>1216.0</td>\n",
       "      <td>1</td>\n",
       "      <td>143.0</td>\n",
       "      <td>1359.0</td>\n",
       "      <td>0.000000</td>\n",
       "    </tr>\n",
       "    <tr>\n",
       "      <th>1</th>\n",
       "      <td>2</td>\n",
       "      <td>793.0</td>\n",
       "      <td>2</td>\n",
       "      <td>215.0</td>\n",
       "      <td>1008.0</td>\n",
       "      <td>15.820456</td>\n",
       "    </tr>\n",
       "    <tr>\n",
       "      <th>2</th>\n",
       "      <td>3</td>\n",
       "      <td>1170.0</td>\n",
       "      <td>3</td>\n",
       "      <td>225.0</td>\n",
       "      <td>1395.0</td>\n",
       "      <td>22.321429</td>\n",
       "    </tr>\n",
       "    <tr>\n",
       "      <th>3</th>\n",
       "      <td>4</td>\n",
       "      <td>1158.0</td>\n",
       "      <td>4</td>\n",
       "      <td>256.0</td>\n",
       "      <td>1414.0</td>\n",
       "      <td>18.351254</td>\n",
       "    </tr>\n",
       "    <tr>\n",
       "      <th>4</th>\n",
       "      <td>5</td>\n",
       "      <td>3204.0</td>\n",
       "      <td>5</td>\n",
       "      <td>738.0</td>\n",
       "      <td>3942.0</td>\n",
       "      <td>52.192362</td>\n",
       "    </tr>\n",
       "    <tr>\n",
       "      <th>5</th>\n",
       "      <td>6</td>\n",
       "      <td>215.0</td>\n",
       "      <td>6</td>\n",
       "      <td>131.0</td>\n",
       "      <td>346.0</td>\n",
       "      <td>3.323186</td>\n",
       "    </tr>\n",
       "  </tbody>\n",
       "</table>\n",
       "</div>"
      ],
      "text/plain": [
       "   Month  New_count  Month  Existing_count   Total  retention_rate\n",
       "0      1     1216.0      1           143.0  1359.0        0.000000\n",
       "1      2      793.0      2           215.0  1008.0       15.820456\n",
       "2      3     1170.0      3           225.0  1395.0       22.321429\n",
       "3      4     1158.0      4           256.0  1414.0       18.351254\n",
       "4      5     3204.0      5           738.0  3942.0       52.192362\n",
       "5      6      215.0      6           131.0   346.0        3.323186"
      ]
     },
     "execution_count": 348,
     "metadata": {},
     "output_type": "execute_result"
    }
   ],
   "source": [
    "#tx_data2.groupby(['Month'])['UserType'=='New'].count()\n",
    "#=tx_data2[['date','Month','UserType']]\n",
    "\n",
    "df = pd.get_dummies(tx_data2['UserType']).reindex(columns=tx_data2['UserType'].unique(), fill_value=0)\n",
    "df=pd.concat([tx_data2,df],axis=1).reset_index()\n",
    "df.head( )\n",
    "tx_retention=pd.DataFrame(df.groupby(['Month'])['New'].sum())\n",
    "df1=pd.DataFrame(df.groupby(['Month'])['Existing'].sum())\n",
    "df1=df1.add_suffix('_count').reset_index()\n",
    "#tx_retention.columns=['Month','New_count']\n",
    "type(tx_retention)\n",
    "tx_retention.index\n",
    "tx_retention=tx_retention.add_suffix('_count').reset_index()\n",
    "tx_retention=pd.concat([tx_retention,df1],axis=1)\n",
    "tx_retention['Total']=tx_retention['New_count']+tx_retention['Existing_count']\n",
    "\n",
    "tx_retention.loc[0,'retention_rate']=0\n",
    "for row in range(1,len(tx_retention)):\n",
    "    tx_retention.loc[row,'retention_rate']=(tx_retention.loc[row,'Total']-tx_retention.loc[row,'New_count'])/tx_retention.loc[row-1,'Total']*100\n",
    "tx_retention    "
   ]
  },
  {
   "cell_type": "markdown",
   "metadata": {},
   "source": [
    "The Monthly retention rate is gradually increased from jan to may but in june there is a decay because we have few \n",
    "records \n",
    "of start of the month."
   ]
  },
  {
   "cell_type": "code",
   "execution_count": 353,
   "metadata": {
    "collapsed": false
   },
   "outputs": [
    {
     "data": {
      "image/png": "[encoded data removed]",
      "text/plain": [
       "<matplotlib.figure.Figure at 0xa6bcd04ef0>"
      ]
     },
     "metadata": {},
     "output_type": "display_data"
    }
   ],
   "source": [
    "plt.plot('Month','retention_rate',data=tx_retention)\n",
    "plt.xlabel('Month')\n",
    "plt.ylabel('retention_rate')\n",
    "plt.title('Monthly retention rate')\n",
    "plt.show()"
   ]
  },
  {
   "cell_type": "code",
   "execution_count": null,
   "metadata": {
    "collapsed": true
   },
   "outputs": [],
   "source": []
  },
  {
   "cell_type": "code",
   "execution_count": null,
   "metadata": {
    "collapsed": true
   },
   "outputs": [],
   "source": []
  },
  {
   "cell_type": "code",
   "execution_count": null,
   "metadata": {
    "collapsed": true
   },
   "outputs": [],
   "source": []
  },
  {
   "cell_type": "code",
   "execution_count": null,
   "metadata": {
    "collapsed": true
   },
   "outputs": [],
   "source": []
  },
  {
   "cell_type": "code",
   "execution_count": null,
   "metadata": {
    "collapsed": true
   },
   "outputs": [],
   "source": []
  }
 ],
 "metadata": {
  "kernelspec": {
   "display_name": "Python 3",
   "language": "python",
   "name": "python3"
  },
  "language_info": {
   "codemirror_mode": {
    "name": "ipython",
    "version": 3
   },
   "file_extension": ".py",
   "mimetype": "text/x-python",
   "name": "python",
   "nbconvert_exporter": "python",
   "pygments_lexer": "ipython3",
   "version": "3.6.0"
  }
 },
 "nbformat": 4,
 "nbformat_minor": 2
}
