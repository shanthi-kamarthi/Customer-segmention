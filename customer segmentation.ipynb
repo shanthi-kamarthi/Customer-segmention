{
 "cells": [
  {
   "cell_type": "markdown",
   "metadata": {
    "collapsed": true
   },
   "source": [
    "### Customer Segmentation\n",
    "        Customers have their own needs and different profile. \n",
    "    If we want to increase the retention rate , we can do segmentation based on churn probability.\n",
    "    Here we can use RFM method for customer Segmentation.\n",
    "    \n",
    "    RFM-- Recency - Frequency - Monetory value\n",
    "    . Low Value:- customers who are less active, not frequent buyers\n",
    "    . Mid Value:- Customers do purchases moderate.\n",
    "    . High Value:- Customer who are more valuable and we don't  want to lose. (High Frequency, High Revenue)\n",
    "\n",
    "Here we are Calculating Recency, Frequency and monetary scores for each customer and applying unsupervised Machine\n",
    "learning to identify different groups(clusters) for each."
   ]
  },
  {
   "cell_type": "code",
   "execution_count": 22,
   "metadata": {
    "collapsed": true
   },
   "outputs": [],
   "source": [
    "from datetime import datetime, timedelta\n",
    "import pandas as pd\n",
    "%matplotlib inline\n",
    "import matplotlib.pyplot as plt\n",
    "import numpy as np\n",
    "import seaborn as sns\n"
   ]
  },
  {
   "cell_type": "code",
   "execution_count": 2,
   "metadata": {
    "collapsed": false
   },
   "outputs": [
    {
     "data": {
      "text/html": [
       "<div>\n",
       "<table border=\"1\" class=\"dataframe\">\n",
       "  <thead>\n",
       "    <tr style=\"text-align: right;\">\n",
       "      <th></th>\n",
       "      <th>date</th>\n",
       "      <th>cust_id</th>\n",
       "      <th>event</th>\n",
       "      <th>price</th>\n",
       "      <th>product_id</th>\n",
       "      <th>category</th>\n",
       "    </tr>\n",
       "  </thead>\n",
       "  <tbody>\n",
       "    <tr>\n",
       "      <th>0</th>\n",
       "      <td>2019-01-14</td>\n",
       "      <td>007e188b-63b2-4c0b-9c74-2eb5a4cb1d9b</td>\n",
       "      <td>addToCart</td>\n",
       "      <td>337</td>\n",
       "      <td>PR923AT55PMADFMX</td>\n",
       "      <td>women&gt;outerwear&gt;vests</td>\n",
       "    </tr>\n",
       "    <tr>\n",
       "      <th>1</th>\n",
       "      <td>2019-01-14</td>\n",
       "      <td>007e188b-63b2-4c0b-9c74-2eb5a4cb1d9b</td>\n",
       "      <td>addToCart</td>\n",
       "      <td>337</td>\n",
       "      <td>PR923AT55PMADFMX</td>\n",
       "      <td>women&gt;outerwear&gt;vests</td>\n",
       "    </tr>\n",
       "    <tr>\n",
       "      <th>2</th>\n",
       "      <td>2019-01-14</td>\n",
       "      <td>007e188b-63b2-4c0b-9c74-2eb5a4cb1d9b</td>\n",
       "      <td>addToCart</td>\n",
       "      <td>337</td>\n",
       "      <td>PR923AT09IUWDFMX</td>\n",
       "      <td>women&gt;outerwear&gt;vests</td>\n",
       "    </tr>\n",
       "    <tr>\n",
       "      <th>3</th>\n",
       "      <td>2019-01-14</td>\n",
       "      <td>007e188b-63b2-4c0b-9c74-2eb5a4cb1d9b</td>\n",
       "      <td>addToCart</td>\n",
       "      <td>117</td>\n",
       "      <td>MA194AT06LOBDFMX</td>\n",
       "      <td>boys&gt;topwear&gt;sweatshirts</td>\n",
       "    </tr>\n",
       "    <tr>\n",
       "      <th>4</th>\n",
       "      <td>2019-01-14</td>\n",
       "      <td>007e188b-63b2-4c0b-9c74-2eb5a4cb1d9b</td>\n",
       "      <td>addToCart</td>\n",
       "      <td>117</td>\n",
       "      <td>MA194AT06LOBDFMX</td>\n",
       "      <td>boys&gt;topwear&gt;sweatshirts</td>\n",
       "    </tr>\n",
       "  </tbody>\n",
       "</table>\n",
       "</div>"
      ],
      "text/plain": [
       "         date                               cust_id      event  price  \\\n",
       "0  2019-01-14  007e188b-63b2-4c0b-9c74-2eb5a4cb1d9b  addToCart    337   \n",
       "1  2019-01-14  007e188b-63b2-4c0b-9c74-2eb5a4cb1d9b  addToCart    337   \n",
       "2  2019-01-14  007e188b-63b2-4c0b-9c74-2eb5a4cb1d9b  addToCart    337   \n",
       "3  2019-01-14  007e188b-63b2-4c0b-9c74-2eb5a4cb1d9b  addToCart    117   \n",
       "4  2019-01-14  007e188b-63b2-4c0b-9c74-2eb5a4cb1d9b  addToCart    117   \n",
       "\n",
       "         product_id                  category  \n",
       "0  PR923AT55PMADFMX     women>outerwear>vests  \n",
       "1  PR923AT55PMADFMX     women>outerwear>vests  \n",
       "2  PR923AT09IUWDFMX     women>outerwear>vests  \n",
       "3  MA194AT06LOBDFMX  boys>topwear>sweatshirts  \n",
       "4  MA194AT06LOBDFMX  boys>topwear>sweatshirts  "
      ]
     },
     "execution_count": 2,
     "metadata": {},
     "output_type": "execute_result"
    }
   ],
   "source": [
    "tx_data = pd.read_table('C:\\\\Users\\\\Raghuram\\\\Desktop\\\\project\\\\000.txt',header=None,sep=\",\")\n",
    "\n",
    "tx_data.columns=[\"date\",\"cust_id\",\"event\",\"price\",\"product_id\",\"category\"]\n",
    "tx_data.head(5)"
   ]
  },
  {
   "cell_type": "code",
   "execution_count": 3,
   "metadata": {
    "collapsed": false
   },
   "outputs": [
    {
     "name": "stdout",
     "output_type": "stream",
     "text": [
      "(9464, 6)\n"
     ]
    },
    {
     "data": {
      "text/html": [
       "<div>\n",
       "<table border=\"1\" class=\"dataframe\">\n",
       "  <thead>\n",
       "    <tr style=\"text-align: right;\">\n",
       "      <th></th>\n",
       "      <th>date</th>\n",
       "      <th>cust_id</th>\n",
       "      <th>event</th>\n",
       "      <th>price</th>\n",
       "      <th>product_id</th>\n",
       "      <th>category</th>\n",
       "    </tr>\n",
       "  </thead>\n",
       "  <tbody>\n",
       "    <tr>\n",
       "      <th>16796</th>\n",
       "      <td>2019-01-18</td>\n",
       "      <td>05fa0274-07ed-424f-9930-9e00a181a57b</td>\n",
       "      <td>buy</td>\n",
       "      <td>1999</td>\n",
       "      <td>TI778SH75SKEDFMX</td>\n",
       "      <td>men&gt;shoes&gt;boots</td>\n",
       "    </tr>\n",
       "    <tr>\n",
       "      <th>16797</th>\n",
       "      <td>2019-01-18</td>\n",
       "      <td>05fa0274-07ed-424f-9930-9e00a181a57b</td>\n",
       "      <td>buy</td>\n",
       "      <td>1499</td>\n",
       "      <td>TI778SH87SJSDFMX</td>\n",
       "      <td>men&gt;shoes&gt;boots</td>\n",
       "    </tr>\n",
       "    <tr>\n",
       "      <th>16798</th>\n",
       "      <td>2019-01-11</td>\n",
       "      <td>0cbc10e5-005a-4960-a7fb-28931bd82daf</td>\n",
       "      <td>buy</td>\n",
       "      <td>1199</td>\n",
       "      <td>TH934AT94SAVDFMX</td>\n",
       "      <td>women&gt;outerwear&gt;jackets</td>\n",
       "    </tr>\n",
       "    <tr>\n",
       "      <th>16799</th>\n",
       "      <td>2019-01-18</td>\n",
       "      <td>1256d1c8-feae-4226-871a-b90e7d918ee0</td>\n",
       "      <td>buy</td>\n",
       "      <td>299</td>\n",
       "      <td>SQ017AT94NEVDFMX</td>\n",
       "      <td>men&gt;activewear&gt;tshirts</td>\n",
       "    </tr>\n",
       "    <tr>\n",
       "      <th>16800</th>\n",
       "      <td>2019-01-18</td>\n",
       "      <td>1256d1c8-feae-4226-871a-b90e7d918ee0</td>\n",
       "      <td>buy</td>\n",
       "      <td>299</td>\n",
       "      <td>DO528AB27RRWDFMX</td>\n",
       "      <td>men&gt;bottomwear&gt;shorts</td>\n",
       "    </tr>\n",
       "  </tbody>\n",
       "</table>\n",
       "</div>"
      ],
      "text/plain": [
       "             date                               cust_id event  price  \\\n",
       "16796  2019-01-18  05fa0274-07ed-424f-9930-9e00a181a57b   buy   1999   \n",
       "16797  2019-01-18  05fa0274-07ed-424f-9930-9e00a181a57b   buy   1499   \n",
       "16798  2019-01-11  0cbc10e5-005a-4960-a7fb-28931bd82daf   buy   1199   \n",
       "16799  2019-01-18  1256d1c8-feae-4226-871a-b90e7d918ee0   buy    299   \n",
       "16800  2019-01-18  1256d1c8-feae-4226-871a-b90e7d918ee0   buy    299   \n",
       "\n",
       "             product_id                 category  \n",
       "16796  TI778SH75SKEDFMX          men>shoes>boots  \n",
       "16797  TI778SH87SJSDFMX          men>shoes>boots  \n",
       "16798  TH934AT94SAVDFMX  women>outerwear>jackets  \n",
       "16799  SQ017AT94NEVDFMX   men>activewear>tshirts  \n",
       "16800  DO528AB27RRWDFMX    men>bottomwear>shorts  "
      ]
     },
     "execution_count": 3,
     "metadata": {},
     "output_type": "execute_result"
    }
   ],
   "source": [
    "tx_data=tx_data.loc[tx_data['event'].isin(['buy'])]\n",
    "print(tx_data.shape)\n",
    "tx_data.head()"
   ]
  },
  {
   "cell_type": "markdown",
   "metadata": {},
   "source": [
    "### Recency\n",
    "   \n",
    "   Extracting No. of days recently purchased by the customer by subtracting last purchase date of a customer with the maximum date of the total data."
   ]
  },
  {
   "cell_type": "code",
   "execution_count": 28,
   "metadata": {
    "collapsed": false
   },
   "outputs": [
    {
     "data": {
      "text/html": [
       "<div>\n",
       "<table border=\"1\" class=\"dataframe\">\n",
       "  <thead>\n",
       "    <tr style=\"text-align: right;\">\n",
       "      <th></th>\n",
       "      <th>cust_id</th>\n",
       "      <th>Recency</th>\n",
       "    </tr>\n",
       "  </thead>\n",
       "  <tbody>\n",
       "    <tr>\n",
       "      <th>0</th>\n",
       "      <td>05fa0274-07ed-424f-9930-9e00a181a57b</td>\n",
       "      <td>139</td>\n",
       "    </tr>\n",
       "    <tr>\n",
       "      <th>1</th>\n",
       "      <td>0cbc10e5-005a-4960-a7fb-28931bd82daf</td>\n",
       "      <td>146</td>\n",
       "    </tr>\n",
       "    <tr>\n",
       "      <th>2</th>\n",
       "      <td>1256d1c8-feae-4226-871a-b90e7d918ee0</td>\n",
       "      <td>139</td>\n",
       "    </tr>\n",
       "    <tr>\n",
       "      <th>3</th>\n",
       "      <td>16f9603d-50c1-4115-903d-e28660746711</td>\n",
       "      <td>149</td>\n",
       "    </tr>\n",
       "    <tr>\n",
       "      <th>4</th>\n",
       "      <td>1b33e61c-8d36-4a31-a50f-0b21c46221cc</td>\n",
       "      <td>153</td>\n",
       "    </tr>\n",
       "  </tbody>\n",
       "</table>\n",
       "</div>"
      ],
      "text/plain": [
       "                                cust_id  Recency\n",
       "0  05fa0274-07ed-424f-9930-9e00a181a57b      139\n",
       "1  0cbc10e5-005a-4960-a7fb-28931bd82daf      146\n",
       "2  1256d1c8-feae-4226-871a-b90e7d918ee0      139\n",
       "3  16f9603d-50c1-4115-903d-e28660746711      149\n",
       "4  1b33e61c-8d36-4a31-a50f-0b21c46221cc      153"
      ]
     },
     "execution_count": 28,
     "metadata": {},
     "output_type": "execute_result"
    }
   ],
   "source": [
    "#create a generic user dataframe to keep CustomerID and new segmentation scores\n",
    "tx_user = pd.DataFrame(tx_data['cust_id'].unique())\n",
    "tx_user.columns = ['cust_id']\n",
    "\n",
    "#get the max purchase date for each customer and create a dataframe with it\n",
    "tx_max_purchase = tx_data.groupby('cust_id').date.max().reset_index()\n",
    "tx_max_purchase.columns = ['cust_id','MaxPurchaseDate']\n",
    "\n",
    "#we take our observation point as the max invoice date in our dataset\n",
    "tx_max_purchase['Recency'] = (pd.to_datetime(tx_max_purchase['MaxPurchaseDate'].max())-pd.to_datetime(tx_max_purchase['MaxPurchaseDate'])).dt.days\n",
    "\n",
    "#merge this dataframe to our new user dataframe\n",
    "tx_user = pd.merge(tx_user, tx_max_purchase[['cust_id','Recency']], on='cust_id')\n",
    "\n",
    "tx_user.head()"
   ]
  },
  {
   "cell_type": "markdown",
   "metadata": {},
   "source": [
    "Below is the distribution of the customers recency "
   ]
  },
  {
   "cell_type": "code",
   "execution_count": 29,
   "metadata": {
    "collapsed": false
   },
   "outputs": [
    {
     "data": {
      "image/png": "[encoded data removed]",
      "text/plain": [
       "<matplotlib.figure.Figure at 0x36014eca20>"
      ]
     },
     "metadata": {},
     "output_type": "display_data"
    }
   ],
   "source": [
    "#plot a recency histogram\n",
    "plt.hist(tx_user['Recency'])\n",
    "plt.title('Recency Histogram')\n",
    "plt.show()"
   ]
  },
  {
   "cell_type": "code",
   "execution_count": null,
   "metadata": {
    "collapsed": true
   },
   "outputs": [],
   "source": [
    "Average recency is 60 and median is 51."
   ]
  },
  {
   "cell_type": "code",
   "execution_count": 31,
   "metadata": {
    "collapsed": false
   },
   "outputs": [
    {
     "data": {
      "text/plain": [
       "count    2819.000000\n",
       "mean       59.638524\n",
       "std        45.997125\n",
       "min         0.000000\n",
       "25%        17.500000\n",
       "50%        51.000000\n",
       "75%        98.000000\n",
       "max       156.000000\n",
       "Name: Recency, dtype: float64"
      ]
     },
     "execution_count": 31,
     "metadata": {},
     "output_type": "execute_result"
    }
   ],
   "source": [
    "tx_user.Recency.describe()"
   ]
  },
  {
   "cell_type": "markdown",
   "metadata": {},
   "source": [
    "KMeans custering on Recency measure of customers.\n",
    "Finding optimal No. of Clusters(groups) by using screeplot. By the Screeplot we found there are 4 possible customer segments from the given data."
   ]
  },
  {
   "cell_type": "code",
   "execution_count": 33,
   "metadata": {
    "collapsed": false
   },
   "outputs": [
    {
     "data": {
      "image/png": "[encoded data removed]",
      "text/plain": [
       "<matplotlib.figure.Figure at 0x36001ce240>"
      ]
     },
     "metadata": {},
     "output_type": "display_data"
    }
   ],
   "source": [
    "\n",
    "from sklearn.cluster import KMeans\n",
    "sse={}\n",
    "tx_recency = tx_user[['Recency']]\n",
    "for k in range(1, 10):\n",
    "    kmeans = KMeans(n_clusters=k, max_iter=1000).fit(tx_recency)\n",
    "    tx_recency[\"clusters\"] = kmeans.labels_\n",
    "    sse[k] = kmeans.inertia_ \n",
    "plt.figure()\n",
    "plt.plot(list(sse.keys()), list(sse.values()))\n",
    "plt.xlabel(\"Number of cluster\")\n",
    "plt.show()"
   ]
  },
  {
   "cell_type": "code",
   "execution_count": 34,
   "metadata": {
    "collapsed": true
   },
   "outputs": [],
   "source": [
    "#build 4 clusters for recency and add it to dataframe\n",
    "kmeans = KMeans(n_clusters=4)\n",
    "kmeans.fit(tx_user[['Recency']])\n",
    "tx_user['RecencyCluster'] = kmeans.predict(tx_user[['Recency']])"
   ]
  },
  {
   "cell_type": "code",
   "execution_count": 35,
   "metadata": {
    "collapsed": true
   },
   "outputs": [],
   "source": [
    "#function for ordering cluster numbers\n",
    "def order_cluster(cluster_field_name, target_field_name,df,ascending):\n",
    "    new_cluster_field_name = 'new_' + cluster_field_name\n",
    "    df_new = df.groupby(cluster_field_name)[target_field_name].mean().reset_index()\n",
    "    df_new = df_new.sort_values(by=target_field_name,ascending=ascending).reset_index(drop=True)\n",
    "    df_new['index'] = df_new.index\n",
    "    df_final = pd.merge(df,df_new[[cluster_field_name,'index']], on=cluster_field_name)\n",
    "    df_final = df_final.drop([cluster_field_name],axis=1)\n",
    "    df_final = df_final.rename(columns={\"index\":cluster_field_name})\n",
    "    return df_final\n",
    "\n",
    "tx_user = order_cluster('RecencyCluster', 'Recency',tx_user,False)\n"
   ]
  },
  {
   "cell_type": "code",
   "execution_count": 44,
   "metadata": {
    "collapsed": false
   },
   "outputs": [
    {
     "data": {
      "text/plain": [
       "RecencyCluster       \n",
       "0               count     576.000000\n",
       "                mean      130.043403\n",
       "                std        11.417448\n",
       "                min       109.000000\n",
       "                25%       121.000000\n",
       "                50%       131.000000\n",
       "                75%       136.000000\n",
       "                max       156.000000\n",
       "1               count     597.000000\n",
       "                mean       86.482412\n",
       "                std        11.387550\n",
       "                min        68.000000\n",
       "                25%        78.000000\n",
       "                50%        85.000000\n",
       "                75%        95.000000\n",
       "                max       108.000000\n",
       "2               count     573.000000\n",
       "                mean       47.778360\n",
       "                std        11.676350\n",
       "                min        31.000000\n",
       "                25%        37.000000\n",
       "                50%        47.000000\n",
       "                75%        58.000000\n",
       "                max        67.000000\n",
       "3               count    1073.000000\n",
       "                mean       13.242311\n",
       "                std         7.242276\n",
       "                min         0.000000\n",
       "                25%         8.000000\n",
       "                50%        10.000000\n",
       "                75%        20.000000\n",
       "                max        30.000000\n",
       "Name: Recency, dtype: float64"
      ]
     },
     "execution_count": 44,
     "metadata": {},
     "output_type": "execute_result"
    }
   ],
   "source": [
    "(tx_user.groupby('RecencyCluster')['Recency'].describe())"
   ]
  },
  {
   "cell_type": "markdown",
   "metadata": {},
   "source": [
    "### Frequency"
   ]
  },
  {
   "cell_type": "code",
   "execution_count": 45,
   "metadata": {
    "collapsed": false
   },
   "outputs": [
    {
     "data": {
      "text/html": [
       "<div>\n",
       "<table border=\"1\" class=\"dataframe\">\n",
       "  <thead>\n",
       "    <tr style=\"text-align: right;\">\n",
       "      <th></th>\n",
       "      <th>cust_id</th>\n",
       "      <th>Recency</th>\n",
       "      <th>RecencyCluster</th>\n",
       "      <th>Frequency</th>\n",
       "    </tr>\n",
       "  </thead>\n",
       "  <tbody>\n",
       "    <tr>\n",
       "      <th>0</th>\n",
       "      <td>05fa0274-07ed-424f-9930-9e00a181a57b</td>\n",
       "      <td>139</td>\n",
       "      <td>0</td>\n",
       "      <td>2</td>\n",
       "    </tr>\n",
       "    <tr>\n",
       "      <th>1</th>\n",
       "      <td>0cbc10e5-005a-4960-a7fb-28931bd82daf</td>\n",
       "      <td>146</td>\n",
       "      <td>0</td>\n",
       "      <td>1</td>\n",
       "    </tr>\n",
       "    <tr>\n",
       "      <th>2</th>\n",
       "      <td>1256d1c8-feae-4226-871a-b90e7d918ee0</td>\n",
       "      <td>139</td>\n",
       "      <td>0</td>\n",
       "      <td>3</td>\n",
       "    </tr>\n",
       "    <tr>\n",
       "      <th>3</th>\n",
       "      <td>16f9603d-50c1-4115-903d-e28660746711</td>\n",
       "      <td>149</td>\n",
       "      <td>0</td>\n",
       "      <td>5</td>\n",
       "    </tr>\n",
       "    <tr>\n",
       "      <th>4</th>\n",
       "      <td>1b33e61c-8d36-4a31-a50f-0b21c46221cc</td>\n",
       "      <td>153</td>\n",
       "      <td>0</td>\n",
       "      <td>5</td>\n",
       "    </tr>\n",
       "  </tbody>\n",
       "</table>\n",
       "</div>"
      ],
      "text/plain": [
       "                                cust_id  Recency  RecencyCluster  Frequency\n",
       "0  05fa0274-07ed-424f-9930-9e00a181a57b      139               0          2\n",
       "1  0cbc10e5-005a-4960-a7fb-28931bd82daf      146               0          1\n",
       "2  1256d1c8-feae-4226-871a-b90e7d918ee0      139               0          3\n",
       "3  16f9603d-50c1-4115-903d-e28660746711      149               0          5\n",
       "4  1b33e61c-8d36-4a31-a50f-0b21c46221cc      153               0          5"
      ]
     },
     "execution_count": 45,
     "metadata": {},
     "output_type": "execute_result"
    }
   ],
   "source": [
    "#get order counts for each user and create a dataframe with it\n",
    "tx_frequency = tx_data.groupby('cust_id').date.count().reset_index()\n",
    "tx_frequency.columns = ['cust_id','Frequency']\n",
    "\n",
    "#add this data to our main dataframe\n",
    "tx_user = pd.merge(tx_user, tx_frequency, on='cust_id')\n",
    "tx_user.head()"
   ]
  },
  {
   "cell_type": "code",
   "execution_count": 52,
   "metadata": {
    "collapsed": false
   },
   "outputs": [
    {
     "data": {
      "image/png": "[encoded data removed]",
      "text/plain": [
       "<matplotlib.figure.Figure at 0x360434cd68>"
      ]
     },
     "metadata": {},
     "output_type": "display_data"
    }
   ],
   "source": [
    "plt.hist(tx_user.loc[tx_user['Frequency']<40,'Frequency'])\n",
    "plt.title(\"Histogram of Frequency\")\n",
    "plt.show()\n"
   ]
  },
  {
   "cell_type": "code",
   "execution_count": 53,
   "metadata": {
    "collapsed": false
   },
   "outputs": [
    {
     "data": {
      "text/plain": [
       "FrequencyCluster       \n",
       "0                 count    2198.000000\n",
       "                  mean        1.876706\n",
       "                  std         0.999223\n",
       "                  min         1.000000\n",
       "                  25%         1.000000\n",
       "                  50%         2.000000\n",
       "                  75%         2.000000\n",
       "                  max         4.000000\n",
       "1                 count     573.000000\n",
       "                  mean        7.109948\n",
       "                  std         2.393929\n",
       "                  min         5.000000\n",
       "                  25%         5.000000\n",
       "                  50%         6.000000\n",
       "                  75%         8.000000\n",
       "                  max        14.000000\n",
       "2                 count      46.000000\n",
       "                  mean       22.304348\n",
       "                  std         8.134616\n",
       "                  min        15.000000\n",
       "                  25%        16.250000\n",
       "                  50%        19.500000\n",
       "                  75%        26.000000\n",
       "                  max        56.000000\n",
       "3                 count       2.000000\n",
       "                  mean      119.500000\n",
       "                  std         7.778175\n",
       "                  min       114.000000\n",
       "                  25%       116.750000\n",
       "                  50%       119.500000\n",
       "                  75%       122.250000\n",
       "                  max       125.000000\n",
       "Name: Frequency, dtype: float64"
      ]
     },
     "execution_count": 53,
     "metadata": {},
     "output_type": "execute_result"
    }
   ],
   "source": [
    "#k-means\n",
    "kmeans = KMeans(n_clusters=4)\n",
    "kmeans.fit(tx_user[['Frequency']])\n",
    "tx_user['FrequencyCluster'] = kmeans.predict(tx_user[['Frequency']])\n",
    "\n",
    "#order the frequency cluster\n",
    "tx_user = order_cluster('FrequencyCluster', 'Frequency',tx_user,True)\n",
    "\n",
    "#see details of each cluster\n",
    "tx_user.groupby('FrequencyCluster')['Frequency'].describe()"
   ]
  },
  {
   "cell_type": "markdown",
   "metadata": {},
   "source": [
    "### Revenue/Monetary"
   ]
  },
  {
   "cell_type": "code",
   "execution_count": 55,
   "metadata": {
    "collapsed": true
   },
   "outputs": [],
   "source": [
    "#calculate revenue for each customer\n",
    "tx_revenue = tx_data.groupby('cust_id').price.sum().reset_index()\n",
    "\n",
    "#merge it with our main dataframe\n",
    "tx_user = pd.merge(tx_user, tx_revenue, on='cust_id')\n"
   ]
  },
  {
   "cell_type": "code",
   "execution_count": 59,
   "metadata": {
    "collapsed": false
   },
   "outputs": [
    {
     "data": {
      "image/png": "[encoded data removed]",
      "text/plain": [
       "<matplotlib.figure.Figure at 0x3604772438>"
      ]
     },
     "metadata": {},
     "output_type": "display_data"
    }
   ],
   "source": [
    "plt.hist(tx_user.loc[tx_user['price']<50000,'price'])\n",
    "plt.xlabel(\"Sales price\")\n",
    "plt.title(\"Histogram of total purchases by each customer\")\n",
    "plt.show()"
   ]
  },
  {
   "cell_type": "code",
   "execution_count": 60,
   "metadata": {
    "collapsed": false
   },
   "outputs": [
    {
     "data": {
      "text/plain": [
       "RevenueCluster       \n",
       "0               count     2309.000000\n",
       "                mean      1070.484625\n",
       "                std        576.682407\n",
       "                min         -1.000000\n",
       "                25%        583.000000\n",
       "                50%        999.000000\n",
       "                75%       1546.000000\n",
       "                max       2354.000000\n",
       "1               count      458.000000\n",
       "                mean      3672.109170\n",
       "                std       1167.577277\n",
       "                min       2372.000000\n",
       "                25%       2703.250000\n",
       "                50%       3366.500000\n",
       "                75%       4338.750000\n",
       "                max       7496.000000\n",
       "2               count       50.000000\n",
       "                mean     11479.420000\n",
       "                std       4909.399756\n",
       "                min       7695.000000\n",
       "                25%       8544.750000\n",
       "                50%       9690.500000\n",
       "                75%      13190.000000\n",
       "                max      33991.000000\n",
       "3               count        2.000000\n",
       "                mean     65450.500000\n",
       "                std      10304.667122\n",
       "                min      58164.000000\n",
       "                25%      61807.250000\n",
       "                50%      65450.500000\n",
       "                75%      69093.750000\n",
       "                max      72737.000000\n",
       "Name: price, dtype: float64"
      ]
     },
     "execution_count": 60,
     "metadata": {},
     "output_type": "execute_result"
    }
   ],
   "source": [
    "#apply clustering\n",
    "kmeans = KMeans(n_clusters=4)\n",
    "kmeans.fit(tx_user[['price']])\n",
    "tx_user['RevenueCluster'] = kmeans.predict(tx_user[['price']])\n",
    "\n",
    "\n",
    "#order the cluster numbers\n",
    "tx_user = order_cluster('RevenueCluster', 'price',tx_user,True)\n",
    "\n",
    "#show details of the dataframe\n",
    "tx_user.groupby('RevenueCluster')['price'].describe()"
   ]
  },
  {
   "cell_type": "code",
   "execution_count": 61,
   "metadata": {
    "collapsed": false,
    "scrolled": true
   },
   "outputs": [
    {
     "data": {
      "text/html": [
       "<div>\n",
       "<table border=\"1\" class=\"dataframe\">\n",
       "  <thead>\n",
       "    <tr style=\"text-align: right;\">\n",
       "      <th></th>\n",
       "      <th>Recency</th>\n",
       "      <th>Frequency</th>\n",
       "      <th>price</th>\n",
       "    </tr>\n",
       "    <tr>\n",
       "      <th>OverallScore</th>\n",
       "      <th></th>\n",
       "      <th></th>\n",
       "      <th></th>\n",
       "    </tr>\n",
       "  </thead>\n",
       "  <tbody>\n",
       "    <tr>\n",
       "      <th>0</th>\n",
       "      <td>129.780761</td>\n",
       "      <td>1.736018</td>\n",
       "      <td>1000.711409</td>\n",
       "    </tr>\n",
       "    <tr>\n",
       "      <th>1</th>\n",
       "      <td>94.385417</td>\n",
       "      <td>2.342014</td>\n",
       "      <td>1186.595486</td>\n",
       "    </tr>\n",
       "    <tr>\n",
       "      <th>2</th>\n",
       "      <td>59.377637</td>\n",
       "      <td>2.523207</td>\n",
       "      <td>1259.466245</td>\n",
       "    </tr>\n",
       "    <tr>\n",
       "      <th>3</th>\n",
       "      <td>22.187717</td>\n",
       "      <td>2.668598</td>\n",
       "      <td>1359.974508</td>\n",
       "    </tr>\n",
       "    <tr>\n",
       "      <th>4</th>\n",
       "      <td>19.978022</td>\n",
       "      <td>5.622711</td>\n",
       "      <td>2754.307692</td>\n",
       "    </tr>\n",
       "    <tr>\n",
       "      <th>5</th>\n",
       "      <td>17.251748</td>\n",
       "      <td>9.041958</td>\n",
       "      <td>4768.769231</td>\n",
       "    </tr>\n",
       "    <tr>\n",
       "      <th>6</th>\n",
       "      <td>12.592593</td>\n",
       "      <td>15.074074</td>\n",
       "      <td>7310.296296</td>\n",
       "    </tr>\n",
       "    <tr>\n",
       "      <th>7</th>\n",
       "      <td>12.285714</td>\n",
       "      <td>26.142857</td>\n",
       "      <td>15645.642857</td>\n",
       "    </tr>\n",
       "    <tr>\n",
       "      <th>8</th>\n",
       "      <td>12.000000</td>\n",
       "      <td>114.000000</td>\n",
       "      <td>33991.000000</td>\n",
       "    </tr>\n",
       "    <tr>\n",
       "      <th>9</th>\n",
       "      <td>5.000000</td>\n",
       "      <td>125.000000</td>\n",
       "      <td>72737.000000</td>\n",
       "    </tr>\n",
       "  </tbody>\n",
       "</table>\n",
       "</div>"
      ],
      "text/plain": [
       "                 Recency   Frequency         price\n",
       "OverallScore                                      \n",
       "0             129.780761    1.736018   1000.711409\n",
       "1              94.385417    2.342014   1186.595486\n",
       "2              59.377637    2.523207   1259.466245\n",
       "3              22.187717    2.668598   1359.974508\n",
       "4              19.978022    5.622711   2754.307692\n",
       "5              17.251748    9.041958   4768.769231\n",
       "6              12.592593   15.074074   7310.296296\n",
       "7              12.285714   26.142857  15645.642857\n",
       "8              12.000000  114.000000  33991.000000\n",
       "9               5.000000  125.000000  72737.000000"
      ]
     },
     "execution_count": 61,
     "metadata": {},
     "output_type": "execute_result"
    }
   ],
   "source": [
    "#calculate overall score and use mean() to see details\n",
    "tx_user['OverallScore'] = tx_user['RecencyCluster'] + tx_user['FrequencyCluster'] + tx_user['RevenueCluster']\n",
    "tx_user.groupby('OverallScore')['Recency','Frequency','price'].mean()"
   ]
  },
  {
   "cell_type": "markdown",
   "metadata": {},
   "source": [
    "The scoring above clearly shows us that customers with score(cluster) 8 is our best customers whereas 0(cluster) \n",
    "is the worst.\n",
    "\n",
    "To keep things simple, better we name these scores:\n",
    "\n",
    "0 to 2: Low Value\n",
    "\n",
    "3 to 4: Mid Value\n",
    "\n",
    "5+: High Value\n",
    "\n",
    "We can easily apply this naming on our dataframe:"
   ]
  },
  {
   "cell_type": "code",
   "execution_count": 63,
   "metadata": {
    "collapsed": true
   },
   "outputs": [],
   "source": [
    "tx_user['Segment'] = 'Low-Value'\n",
    "tx_user.loc[tx_user['OverallScore']>2,'Segment'] = 'Mid-Value' \n",
    "tx_user.loc[tx_user['OverallScore']>4,'Segment'] = 'High-Value' "
   ]
  },
  {
   "cell_type": "code",
   "execution_count": 64,
   "metadata": {
    "collapsed": false
   },
   "outputs": [
    {
     "data": {
      "text/html": [
       "<div>\n",
       "<table border=\"1\" class=\"dataframe\">\n",
       "  <thead>\n",
       "    <tr style=\"text-align: right;\">\n",
       "      <th></th>\n",
       "      <th>cust_id</th>\n",
       "      <th>Recency</th>\n",
       "      <th>RecencyCluster</th>\n",
       "      <th>Frequency</th>\n",
       "      <th>FrequencyCluster</th>\n",
       "      <th>price</th>\n",
       "      <th>RevenueCluster</th>\n",
       "      <th>OverallScore</th>\n",
       "      <th>Segment</th>\n",
       "    </tr>\n",
       "  </thead>\n",
       "  <tbody>\n",
       "    <tr>\n",
       "      <th>0</th>\n",
       "      <td>05fa0274-07ed-424f-9930-9e00a181a57b</td>\n",
       "      <td>139</td>\n",
       "      <td>0</td>\n",
       "      <td>2</td>\n",
       "      <td>0</td>\n",
       "      <td>3498</td>\n",
       "      <td>1</td>\n",
       "      <td>1</td>\n",
       "      <td>Low-Value</td>\n",
       "    </tr>\n",
       "    <tr>\n",
       "      <th>1</th>\n",
       "      <td>09b272ce-36cd-4be6-838e-5d4766cf508e</td>\n",
       "      <td>133</td>\n",
       "      <td>0</td>\n",
       "      <td>2</td>\n",
       "      <td>0</td>\n",
       "      <td>2998</td>\n",
       "      <td>1</td>\n",
       "      <td>1</td>\n",
       "      <td>Low-Value</td>\n",
       "    </tr>\n",
       "    <tr>\n",
       "      <th>2</th>\n",
       "      <td>37cf413f-05e7-4210-be73-e8ac078fc631</td>\n",
       "      <td>133</td>\n",
       "      <td>0</td>\n",
       "      <td>4</td>\n",
       "      <td>0</td>\n",
       "      <td>6796</td>\n",
       "      <td>1</td>\n",
       "      <td>1</td>\n",
       "      <td>Low-Value</td>\n",
       "    </tr>\n",
       "    <tr>\n",
       "      <th>3</th>\n",
       "      <td>45a0e0fd-4e34-4be9-b7cf-eba71ceb60e3</td>\n",
       "      <td>133</td>\n",
       "      <td>0</td>\n",
       "      <td>2</td>\n",
       "      <td>0</td>\n",
       "      <td>3498</td>\n",
       "      <td>1</td>\n",
       "      <td>1</td>\n",
       "      <td>Low-Value</td>\n",
       "    </tr>\n",
       "    <tr>\n",
       "      <th>4</th>\n",
       "      <td>683bed1e-1a89-434c-b359-7a6bc2861536</td>\n",
       "      <td>133</td>\n",
       "      <td>0</td>\n",
       "      <td>2</td>\n",
       "      <td>0</td>\n",
       "      <td>3398</td>\n",
       "      <td>1</td>\n",
       "      <td>1</td>\n",
       "      <td>Low-Value</td>\n",
       "    </tr>\n",
       "  </tbody>\n",
       "</table>\n",
       "</div>"
      ],
      "text/plain": [
       "                                cust_id  Recency  RecencyCluster  Frequency  \\\n",
       "0  05fa0274-07ed-424f-9930-9e00a181a57b      139               0          2   \n",
       "1  09b272ce-36cd-4be6-838e-5d4766cf508e      133               0          2   \n",
       "2  37cf413f-05e7-4210-be73-e8ac078fc631      133               0          4   \n",
       "3  45a0e0fd-4e34-4be9-b7cf-eba71ceb60e3      133               0          2   \n",
       "4  683bed1e-1a89-434c-b359-7a6bc2861536      133               0          2   \n",
       "\n",
       "   FrequencyCluster  price  RevenueCluster  OverallScore    Segment  \n",
       "0                 0   3498               1             1  Low-Value  \n",
       "1                 0   2998               1             1  Low-Value  \n",
       "2                 0   6796               1             1  Low-Value  \n",
       "3                 0   3498               1             1  Low-Value  \n",
       "4                 0   3398               1             1  Low-Value  "
      ]
     },
     "execution_count": 64,
     "metadata": {},
     "output_type": "execute_result"
    }
   ],
   "source": [
    "tx_user.head()"
   ]
  },
  {
   "cell_type": "markdown",
   "metadata": {
    "collapsed": true
   },
   "source": [
    "### scatter plots for each pair of RFM Clusters\n",
    "We can start taking actions with this segmentation. The main strategies are:\n",
    "\n",
    "High Value: Improve Retention \n",
    "\n",
    "Mid Value: Improve Retention + Increase Frequency \n",
    "\n",
    "Low Value: Increase Frequency"
   ]
  },
  {
   "cell_type": "code",
   "execution_count": 90,
   "metadata": {
    "collapsed": false,
    "scrolled": true
   },
   "outputs": [
    {
     "data": {
      "image/png": "[encoded data removed]",
      "text/plain": [
       "<matplotlib.figure.Figure at 0x360472d048>"
      ]
     },
     "metadata": {},
     "output_type": "display_data"
    }
   ],
   "source": [
    "group=tx_user['Segment'].unique()\n",
    "sns.pairplot(x_vars=['price'],y_vars=['Frequency'],data=tx_user, hue='Segment', size=5)\n",
    "plt.title('Scatter Plot')\n",
    "plt.show()"
   ]
  },
  {
   "cell_type": "code",
   "execution_count": 91,
   "metadata": {
    "collapsed": false
   },
   "outputs": [
    {
     "data": {
      "image/png": "[encoded data removed]",
      "text/plain": [
       "<matplotlib.figure.Figure at 0x36031eb4a8>"
      ]
     },
     "metadata": {},
     "output_type": "display_data"
    }
   ],
   "source": [
    "group=tx_user['Segment'].unique()\n",
    "sns.pairplot(x_vars=['Recency'],y_vars=['Frequency'],data=tx_user, hue='Segment', size=5)\n",
    "plt.title('Scatter Plot')\n",
    "plt.show()"
   ]
  },
  {
   "cell_type": "code",
   "execution_count": 92,
   "metadata": {
    "collapsed": false
   },
   "outputs": [
    {
     "data": {
      "image/png": "[encoded data removed]",
      "text/plain": [
       "<matplotlib.figure.Figure at 0x3604245400>"
      ]
     },
     "metadata": {},
     "output_type": "display_data"
    }
   ],
   "source": [
    "group=tx_user['Segment'].unique()\n",
    "sns.pairplot(x_vars=['price'],y_vars=['Recency'],data=tx_user, hue='Segment', size=5)\n",
    "plt.title('Scatter Plot')\n",
    "plt.show()"
   ]
  }
 ],
 "metadata": {
  "kernelspec": {
   "display_name": "Python 3",
   "language": "python",
   "name": "python3"
  },
  "language_info": {
   "codemirror_mode": {
    "name": "ipython",
    "version": 3
   },
   "file_extension": ".py",
   "mimetype": "text/x-python",
   "name": "python",
   "nbconvert_exporter": "python",
   "pygments_lexer": "ipython3",
   "version": "3.6.0"
  }
 },
 "nbformat": 4,
 "nbformat_minor": 2
}
